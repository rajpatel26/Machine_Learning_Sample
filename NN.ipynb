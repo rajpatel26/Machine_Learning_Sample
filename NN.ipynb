{
 "cells": [
  {
   "cell_type": "markdown",
   "metadata": {},
   "source": [
    "# 1. Loading the datasets."
   ]
  },
  {
   "cell_type": "code",
   "execution_count": null,
   "metadata": {},
   "outputs": [],
   "source": [
    "from sklearn.datasets import load_iris\n",
    "iris = load_iris()"
   ]
  },
  {
   "cell_type": "code",
   "execution_count": null,
   "metadata": {},
   "outputs": [],
   "source": [
    "import numpy as np\n",
    "ion_data = np.genfromtxt(\"ionosphere.txt\", delimiter=\",\", usecols=np.arange(34))\n",
    "ion_target = np.genfromtxt(\"ionosphere.txt\", delimiter=\",\", usecols=34, dtype='int')"
   ]
  },
  {
   "cell_type": "markdown",
   "metadata": {},
   "source": [
    "# 2. Split the datasets into training and test sets."
   ]
  },
  {
   "cell_type": "code",
   "execution_count": null,
   "metadata": {},
   "outputs": [],
   "source": [
    "from sklearn.model_selection import train_test_split\n",
    "iris_X_train, iris_X_test, iris_y_train, iris_y_test = train_test_split(iris['data'], iris['target'], random_state=2606)"
   ]
  },
  {
   "cell_type": "code",
   "execution_count": null,
   "metadata": {},
   "outputs": [],
   "source": [
    "print(iris_X_train.shape,iris_X_test.shape)"
   ]
  },
  {
   "cell_type": "code",
   "execution_count": null,
   "metadata": {},
   "outputs": [],
   "source": [
    "ion_X_train, ion_X_test, ion_y_train, ion_y_test = train_test_split(ion_data, ion_target, random_state=2606)"
   ]
  },
  {
   "cell_type": "code",
   "execution_count": null,
   "metadata": {},
   "outputs": [],
   "source": [
    "print(ion_X_train.shape,ion_X_test.shape)"
   ]
  },
  {
   "cell_type": "markdown",
   "metadata": {},
   "source": [
    "# 3. Implement Nearest Neighbour"
   ]
  },
  {
   "cell_type": "markdown",
   "metadata": {},
   "source": [
    "First let's define a function to calculate the Euclidean distance."
   ]
  },
  {
   "cell_type": "code",
   "execution_count": null,
   "metadata": {},
   "outputs": [],
   "source": [
    "import math"
   ]
  },
  {
   "cell_type": "markdown",
   "metadata": {},
   "source": [
    "First let's make a function to calculate Euclidean Distance"
   ]
  },
  {
   "cell_type": "code",
   "execution_count": null,
   "metadata": {},
   "outputs": [],
   "source": [
    "def euc_dist(x,y):\n",
    "    \"\"\"Euclidean distance\"\"\"\n",
    "    new = np.sqrt(np.sum((x-y)**2))\n",
    "    return new"
   ]
  },
  {
   "cell_type": "markdown",
   "metadata": {},
   "source": [
    "A function to count minimum distance between two samples"
   ]
  },
  {
   "cell_type": "code",
   "execution_count": null,
   "metadata": {},
   "outputs": [],
   "source": [
    "def min_dist(k):\n",
    "    z = math.inf\n",
    "    distance = 0\n",
    "    for n in range(0,len(k)):\n",
    "        if z > k[n]:\n",
    "            z = k[n]\n",
    "            instance = n\n",
    "    return [z,instance]"
   ]
  },
  {
   "cell_type": "code",
   "execution_count": null,
   "metadata": {},
   "outputs": [],
   "source": [
    "def min_dist1(values, k):\n",
    "    min = []\n",
    "    for v in values:\n",
    "        min.append(v)\n",
    "        if len(min) > k:\n",
    "            min.remove(max(min))\n",
    "        instance = v\n",
    "    return [min,instance]"
   ]
  },
  {
   "cell_type": "markdown",
   "metadata": {},
   "source": [
    "1 Nearest Neighbor for iris dataset"
   ]
  },
  {
   "cell_type": "code",
   "execution_count": null,
   "metadata": {},
   "outputs": [],
   "source": [
    "def knn(sample1,sample2):\n",
    "    store = []\n",
    "    distances = [] \n",
    "    for i in range(len(sample2)):\n",
    "        store_sample = []\n",
    "        for j in range(len(sample1)):\n",
    "            distance = euc_dist(sample1[j],sample2[i])\n",
    "            store_sample.append(distance)\n",
    "        distances.append(min_dist(store_sample))\n",
    "    temp = []\n",
    "    for k in range(len(distances)):\n",
    "        store.append(distances[k][1])\n",
    "    for l in range(len(store)):\n",
    "        temp.append(iris_y_train[store[l]])\n",
    "    print(np.mean(iris_y_test!=temp))\n",
    "knn(iris_X_train,iris_X_test)"
   ]
  },
  {
   "cell_type": "markdown",
   "metadata": {},
   "source": [
    "So we get around 94% accuracy on iris dataset"
   ]
  },
  {
   "cell_type": "markdown",
   "metadata": {},
   "source": [
    "1 Nearest Neighbor for ionosphere dataset"
   ]
  },
  {
   "cell_type": "code",
   "execution_count": null,
   "metadata": {},
   "outputs": [],
   "source": [
    "def knn(sample1,sample2):\n",
    "    store = []\n",
    "    distances = []\n",
    "    for i in range(len(sample2)):\n",
    "        store_sample = []\n",
    "        for j in range(len(sample1)):\n",
    "            distance = euc_dist(sample1[j],sample2[i])\n",
    "            store_sample.append(distance)\n",
    "        distances.append(min_dist(store_sample))\n",
    "    temp = []\n",
    "    for k in range(len(distances)):\n",
    "        store.append(distances[k][1])\n",
    "    for l in range(len(store)):\n",
    "        temp.append(ion_y_train[store[l]])\n",
    "    print(np.mean(ion_y_test!=temp))\n",
    "    \n",
    "knn(ion_X_train,ion_X_test)"
   ]
  },
  {
   "cell_type": "markdown",
   "metadata": {},
   "source": [
    "We get around 89% accuracy on ionosphere dataset"
   ]
  },
  {
   "cell_type": "markdown",
   "metadata": {},
   "source": [
    "### General KNN for iris"
   ]
  },
  {
   "cell_type": "code",
   "execution_count": null,
   "metadata": {
    "scrolled": true
   },
   "outputs": [],
   "source": [
    "def knn(sample1,sample2,k):\n",
    "    store = []\n",
    "    distances = []\n",
    "    for i in range(len(sample2)):\n",
    "        store_sample = []\n",
    "        for j in range(len(sample1)):\n",
    "            distance = euc_dist(sample1[j],sample2[i])\n",
    "            store_sample.append(distance)\n",
    "    distances = np.array(min_dist1(store_sample,k))\n",
    "    sorteddist = sorted(distances)\n",
    "    neighbors=[]\n",
    "    for f in range(len(sorteddist)):\n",
    "        neighbors.append(sorteddist[f][1])\n",
    "    Votes = {}\n",
    "    for s in range(len(neighbors)):\n",
    "        result = neighbors[s]\n",
    "        if result in Votes:\n",
    "            Votes[result] += 1\n",
    "        else:\n",
    "            Votes[result] = 1\n",
    "    sortvotes = sorted(Votes.items(), key=operator.itemgetter(1) ,reverse=True)\n",
    "    temp = []\n",
    "    for l in range(len(sorteddist)):\n",
    "        store.append(sorteddist[l][1])\n",
    "    for m in range(len(store)):\n",
    "        temp.append(iris_y_train[store[m]])\n",
    "    print(np.mean(iris_y_test!=temp))\n",
    "    \n",
    "knn(iris_X_train,iris_X_test,3)"
   ]
  },
  {
   "cell_type": "markdown",
   "metadata": {},
   "source": [
    "### General KNN for ionosphere"
   ]
  },
  {
   "cell_type": "code",
   "execution_count": null,
   "metadata": {},
   "outputs": [],
   "source": [
    "def knn(sample1,sample2,k):\n",
    "    store = []\n",
    "    distances = []\n",
    "    for i in range(len(sample2)):\n",
    "        store_sample = []\n",
    "        for j in range(len(sample1)):\n",
    "            distance = euc_dist(sample1[j],sample2[i])\n",
    "            store_sample.append(distance)\n",
    "    distances = np.array(min_dist1(store_sample,k))\n",
    "    sorteddist = sorted(distances)\n",
    "    neighbors=[]\n",
    "    for f in range(len(sorteddist)):\n",
    "        neighbors.append(sorteddist[f][1])\n",
    "    Votes = {}\n",
    "    for s in range(len(neighbors)):\n",
    "        result = neighbors[s]\n",
    "        if result in Votes:\n",
    "            Votes[result] += 1\n",
    "        else:\n",
    "            Votes[result] = 1\n",
    "    sortvotes = sorted(Votes.items(), key=operator.itemgetter(1) ,reverse=True)\n",
    "    temp = []\n",
    "    for l in range(len(sorteddist)):\n",
    "        store.append(sorteddist[l][1])\n",
    "    for m in range(len(store)):\n",
    "        temp.append(ion_y_train[store[m]])\n",
    "    print(np.mean(ion_y_test!=temp))\n",
    "    \n",
    "knn(ion_X_train,ion_X_test,3)"
   ]
  },
  {
   "cell_type": "markdown",
   "metadata": {},
   "source": [
    "General Discussion -\n",
    "\n",
    "Implemented 1 Nearest Neighbor for iris and ionosphere datsets. Getting an error rate of 0.05263157894736842 & 0.11363636363636363 for iris & ionosphere respectively. Which mean we get around 94.7% prediction accuracy for iris dataset & 88.6% prediction accuracy for ionosphere dataset."
   ]
  }
 ],
 "metadata": {
  "kernelspec": {
   "display_name": "Python 3",
   "language": "python",
   "name": "python3"
  },
  "language_info": {
   "codemirror_mode": {
    "name": "ipython",
    "version": 3
   },
   "file_extension": ".py",
   "mimetype": "text/x-python",
   "name": "python",
   "nbconvert_exporter": "python",
   "pygments_lexer": "ipython3",
   "version": "3.7.6"
  }
 },
 "nbformat": 4,
 "nbformat_minor": 2
}
