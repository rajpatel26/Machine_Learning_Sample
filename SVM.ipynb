{
 "cells": [
  {
   "cell_type": "markdown",
   "metadata": {},
   "source": [
    "# Loading & Splitting the wine dataset"
   ]
  },
  {
   "cell_type": "code",
   "execution_count": 54,
   "metadata": {},
   "outputs": [
    {
     "name": "stdout",
     "output_type": "stream",
     "text": [
      "(133, 13) (45, 13)\n"
     ]
    }
   ],
   "source": [
    "from sklearn.datasets import load_wine\n",
    "from sklearn.model_selection import train_test_split\n",
    "wine = load_wine()\n",
    "X_train, X_test, y_train, y_test = train_test_split(wine.data, wine.target, random_state=2606)\n",
    "\n",
    "print(X_train.shape, X_test.shape)"
   ]
  },
  {
   "cell_type": "markdown",
   "metadata": {},
   "source": [
    "# Generalization accuracy of SVM"
   ]
  },
  {
   "cell_type": "code",
   "execution_count": 55,
   "metadata": {},
   "outputs": [],
   "source": [
    "from sklearn.svm import SVC\n",
    "from sklearn.model_selection import cross_val_score\n",
    "svm = SVC()"
   ]
  },
  {
   "cell_type": "code",
   "execution_count": 56,
   "metadata": {},
   "outputs": [
    {
     "name": "stdout",
     "output_type": "stream",
     "text": [
      "0.3832902670111973\n"
     ]
    },
    {
     "name": "stderr",
     "output_type": "stream",
     "text": [
      "C:\\Users\\rraj2\\Anaconda3\\lib\\site-packages\\sklearn\\model_selection\\_split.py:2053: FutureWarning: You should specify a value for 'cv' instead of relying on the default value. The default value will change from 3 to 5 in version 0.22.\n",
      "  warnings.warn(CV_WARNING, FutureWarning)\n",
      "C:\\Users\\rraj2\\Anaconda3\\lib\\site-packages\\sklearn\\svm\\base.py:196: FutureWarning: The default value of gamma will change from 'auto' to 'scale' in version 0.22 to account better for unscaled features. Set gamma explicitly to 'auto' or 'scale' to avoid this warning.\n",
      "  \"avoid this warning.\", FutureWarning)\n",
      "C:\\Users\\rraj2\\Anaconda3\\lib\\site-packages\\sklearn\\svm\\base.py:196: FutureWarning: The default value of gamma will change from 'auto' to 'scale' in version 0.22 to account better for unscaled features. Set gamma explicitly to 'auto' or 'scale' to avoid this warning.\n",
      "  \"avoid this warning.\", FutureWarning)\n",
      "C:\\Users\\rraj2\\Anaconda3\\lib\\site-packages\\sklearn\\svm\\base.py:196: FutureWarning: The default value of gamma will change from 'auto' to 'scale' in version 0.22 to account better for unscaled features. Set gamma explicitly to 'auto' or 'scale' to avoid this warning.\n",
      "  \"avoid this warning.\", FutureWarning)\n"
     ]
    }
   ],
   "source": [
    "import numpy as np\n",
    "scores = cross_val_score(svm, X_train, y_train)\n",
    "mean=np.mean(scores)\n",
    "print(mean)"
   ]
  },
  {
   "cell_type": "markdown",
   "metadata": {},
   "source": [
    "Generalization accuracy of SVM using default parameters is 0.38"
   ]
  },
  {
   "cell_type": "code",
   "execution_count": 57,
   "metadata": {},
   "outputs": [
    {
     "name": "stderr",
     "output_type": "stream",
     "text": [
      "C:\\Users\\rraj2\\Anaconda3\\lib\\site-packages\\sklearn\\svm\\base.py:196: FutureWarning: The default value of gamma will change from 'auto' to 'scale' in version 0.22 to account better for unscaled features. Set gamma explicitly to 'auto' or 'scale' to avoid this warning.\n",
      "  \"avoid this warning.\", FutureWarning)\n"
     ]
    },
    {
     "data": {
      "text/plain": [
       "0.6"
      ]
     },
     "execution_count": 57,
     "metadata": {},
     "output_type": "execute_result"
    }
   ],
   "source": [
    "svm.fit(X_train, y_train)\n",
    "svm.score(X_test, y_test)"
   ]
  },
  {
   "cell_type": "code",
   "execution_count": 58,
   "metadata": {},
   "outputs": [
    {
     "name": "stdout",
     "output_type": "stream",
     "text": [
      "0.4\n"
     ]
    }
   ],
   "source": [
    "test_error_rate = 1-(svm.score(X_test, y_test))\n",
    "print(test_error_rate)"
   ]
  },
  {
   "cell_type": "markdown",
   "metadata": {},
   "source": [
    "Test error rate of SVM using default parameters is 0.40"
   ]
  },
  {
   "cell_type": "markdown",
   "metadata": {},
   "source": [
    "In my opinion the accuracy which we have here is bit low and cross validation is underestimating the accuracy"
   ]
  },
  {
   "cell_type": "markdown",
   "metadata": {},
   "source": [
    "# Creating pipeline for SVM "
   ]
  },
  {
   "cell_type": "code",
   "execution_count": 59,
   "metadata": {},
   "outputs": [],
   "source": [
    "from sklearn.pipeline import Pipeline\n",
    "from sklearn.pipeline import make_pipeline"
   ]
  },
  {
   "cell_type": "code",
   "execution_count": 60,
   "metadata": {},
   "outputs": [
    {
     "name": "stdout",
     "output_type": "stream",
     "text": [
      "Best accuracy: 0.9849624060150376\n",
      "Test score 1.0\n",
      "Best Parameters: {'svc__C': 1, 'svc__gamma': 0.1}\n"
     ]
    },
    {
     "name": "stderr",
     "output_type": "stream",
     "text": [
      "C:\\Users\\rraj2\\Anaconda3\\lib\\site-packages\\sklearn\\model_selection\\_search.py:841: DeprecationWarning: The default of the `iid` parameter will change from True to False in version 0.22 and will be removed in 0.24. This will change numeric results when test-set sizes are unequal.\n",
      "  DeprecationWarning)\n"
     ]
    }
   ],
   "source": [
    "# Standard scaler\n",
    "\n",
    "from sklearn.preprocessing import StandardScaler\n",
    "from sklearn.model_selection import GridSearchCV\n",
    "from sklearn.svm import SVC\n",
    "standard_pipe = make_pipeline(StandardScaler(), SVC())\n",
    "param_grid = {'svc__C': [0.01, 0.1, 1, 10, 100], \n",
    "              'svc__gamma': [0.01, 0.1, 1, 10, 100]}\n",
    "grid = GridSearchCV(standard_pipe, param_grid=param_grid, cv=5)\n",
    "grid.fit(X_train, y_train)\n",
    "\n",
    "print('Best accuracy:',grid.best_score_)\n",
    "print('Test score',grid.score(X_test, y_test))\n",
    "print('Best Parameters:',grid.best_params_)"
   ]
  },
  {
   "cell_type": "code",
   "execution_count": 61,
   "metadata": {},
   "outputs": [
    {
     "name": "stdout",
     "output_type": "stream",
     "text": [
      "Best accuracy: 0.9924812030075187\n",
      "Test score 1.0\n",
      "Best Parameters: {'svc__C': 1, 'svc__gamma': 1}\n"
     ]
    },
    {
     "name": "stderr",
     "output_type": "stream",
     "text": [
      "C:\\Users\\rraj2\\Anaconda3\\lib\\site-packages\\sklearn\\model_selection\\_search.py:841: DeprecationWarning: The default of the `iid` parameter will change from True to False in version 0.22 and will be removed in 0.24. This will change numeric results when test-set sizes are unequal.\n",
      "  DeprecationWarning)\n"
     ]
    }
   ],
   "source": [
    "# MinMax scaler\n",
    "\n",
    "from sklearn.preprocessing import MinMaxScaler\n",
    "minmax_pipe = make_pipeline(MinMaxScaler(), SVC())\n",
    "param_grid = {'svc__C': [0.01, 0.1, 1, 10, 100], \n",
    "              'svc__gamma': [0.01, 0.1, 1, 10, 100]}\n",
    "grid = GridSearchCV(minmax_pipe, param_grid=param_grid, cv=5)\n",
    "grid.fit(X_train, y_train)\n",
    "\n",
    "print('Best accuracy:',grid.best_score_)\n",
    "print('Test score',grid.score(X_test, y_test))\n",
    "print('Best Parameters:',grid.best_params_)"
   ]
  },
  {
   "cell_type": "code",
   "execution_count": 62,
   "metadata": {},
   "outputs": [
    {
     "name": "stdout",
     "output_type": "stream",
     "text": [
      "Best accuracy: 0.9924812030075187\n",
      "Test score 0.9777777777777777\n",
      "Best Parameters: {'svc__C': 10, 'svc__gamma': 0.01}\n"
     ]
    },
    {
     "name": "stderr",
     "output_type": "stream",
     "text": [
      "C:\\Users\\rraj2\\Anaconda3\\lib\\site-packages\\sklearn\\model_selection\\_search.py:841: DeprecationWarning: The default of the `iid` parameter will change from True to False in version 0.22 and will be removed in 0.24. This will change numeric results when test-set sizes are unequal.\n",
      "  DeprecationWarning)\n"
     ]
    }
   ],
   "source": [
    "# Robust scaler\n",
    "\n",
    "from sklearn.preprocessing import RobustScaler\n",
    "robust_pipe = make_pipeline(RobustScaler(), SVC())\n",
    "param_grid = {'svc__C': [0.01, 0.1, 1, 10, 100], \n",
    "              'svc__gamma': [0.01, 0.1, 1, 10, 100]}\n",
    "grid = GridSearchCV(robust_pipe, param_grid=param_grid, cv=5)\n",
    "grid.fit(X_train, y_train)\n",
    "\n",
    "print('Best accuracy:',grid.best_score_)\n",
    "print('Test score',grid.score(X_test, y_test))\n",
    "print('Best Parameters:',grid.best_params_)"
   ]
  },
  {
   "cell_type": "code",
   "execution_count": 63,
   "metadata": {},
   "outputs": [
    {
     "name": "stdout",
     "output_type": "stream",
     "text": [
      "Best accuracy: 0.9473684210526315\n",
      "Test score 0.9555555555555556\n",
      "Best Parameters: {'svc__C': 100, 'svc__gamma': 100}\n"
     ]
    },
    {
     "name": "stderr",
     "output_type": "stream",
     "text": [
      "C:\\Users\\rraj2\\Anaconda3\\lib\\site-packages\\sklearn\\model_selection\\_search.py:841: DeprecationWarning: The default of the `iid` parameter will change from True to False in version 0.22 and will be removed in 0.24. This will change numeric results when test-set sizes are unequal.\n",
      "  DeprecationWarning)\n"
     ]
    }
   ],
   "source": [
    "# Normalizer scaler\n",
    "\n",
    "from sklearn.preprocessing import Normalizer\n",
    "normalize_pipe = make_pipeline(Normalizer(), SVC())\n",
    "param_grid = {'svc__C': [0.01, 0.1, 1, 10, 100], \n",
    "              'svc__gamma': [0.01, 0.1, 1, 10, 100]}\n",
    "grid = GridSearchCV(normalize_pipe, param_grid=param_grid, cv=5)\n",
    "grid.fit(X_train, y_train)\n",
    "\n",
    "print('Best accuracy:',grid.best_score_)\n",
    "print('Test score',grid.score(X_test, y_test))\n",
    "print('Best Parameters:',grid.best_params_)"
   ]
  },
  {
   "cell_type": "markdown",
   "metadata": {},
   "source": [
    "As per the above numerical results we can say that for wine dataset standard scaler & min max scaler are the best since we have got the test score as 1. Robust scaler is also good with 0.98 accuracy where as Normalizer is the worst performing as compared to others with the average result of 0.95"
   ]
  },
  {
   "cell_type": "markdown",
   "metadata": {},
   "source": [
    "# Cross Conformal Predictors"
   ]
  },
  {
   "cell_type": "markdown",
   "metadata": {},
   "source": [
    "Defining KFold as 5"
   ]
  },
  {
   "cell_type": "code",
   "execution_count": 64,
   "metadata": {},
   "outputs": [],
   "source": [
    "from sklearn.model_selection import KFold\n",
    "kf = KFold(shuffle=True, random_state=2606, n_splits=5)"
   ]
  },
  {
   "cell_type": "markdown",
   "metadata": {},
   "source": [
    "Defining elements for p-values"
   ]
  },
  {
   "cell_type": "code",
   "execution_count": 65,
   "metadata": {},
   "outputs": [],
   "source": [
    "train_size = X_train.shape[0]\n",
    "test_size = X_test.shape[0]\n",
    "classes = 3\n",
    "p = np.zeros(shape=(test_size,classes))\n",
    "ranks = np.zeros(shape=(test_size,classes))"
   ]
  },
  {
   "cell_type": "markdown",
   "metadata": {},
   "source": [
    "Computing p-values"
   ]
  },
  {
   "cell_type": "code",
   "execution_count": 66,
   "metadata": {},
   "outputs": [
    {
     "name": "stderr",
     "output_type": "stream",
     "text": [
      "C:\\Users\\rraj2\\Anaconda3\\lib\\site-packages\\sklearn\\model_selection\\_search.py:841: DeprecationWarning: The default of the `iid` parameter will change from True to False in version 0.22 and will be removed in 0.24. This will change numeric results when test-set sizes are unequal.\n",
      "  DeprecationWarning)\n",
      "C:\\Users\\rraj2\\Anaconda3\\lib\\site-packages\\sklearn\\model_selection\\_search.py:841: DeprecationWarning: The default of the `iid` parameter will change from True to False in version 0.22 and will be removed in 0.24. This will change numeric results when test-set sizes are unequal.\n",
      "  DeprecationWarning)\n",
      "C:\\Users\\rraj2\\Anaconda3\\lib\\site-packages\\sklearn\\model_selection\\_search.py:841: DeprecationWarning: The default of the `iid` parameter will change from True to False in version 0.22 and will be removed in 0.24. This will change numeric results when test-set sizes are unequal.\n",
      "  DeprecationWarning)\n",
      "C:\\Users\\rraj2\\Anaconda3\\lib\\site-packages\\sklearn\\model_selection\\_search.py:841: DeprecationWarning: The default of the `iid` parameter will change from True to False in version 0.22 and will be removed in 0.24. This will change numeric results when test-set sizes are unequal.\n",
      "  DeprecationWarning)\n",
      "C:\\Users\\rraj2\\Anaconda3\\lib\\site-packages\\sklearn\\model_selection\\_search.py:841: DeprecationWarning: The default of the `iid` parameter will change from True to False in version 0.22 and will be removed in 0.24. This will change numeric results when test-set sizes are unequal.\n",
      "  DeprecationWarning)\n"
     ]
    }
   ],
   "source": [
    "for rest_index, fold_index in kf.split(X_train):\n",
    "    X_rest, X_fold = X_train[rest_index], X_train[fold_index]\n",
    "    y_rest, y_fold = y_train[rest_index], y_train[fold_index]\n",
    "    grid.fit(X_rest, y_rest)\n",
    "    df_fold = grid.decision_function(X_fold)\n",
    "    df_test = grid.decision_function(X_test)\n",
    "    n_fold = X_fold.shape[0]   # size of the current fold\n",
    "    alpha_fold = np.zeros(n_fold)  # initializing the conformity scores for the fold\n",
    "    for i in range(n_fold):\n",
    "        alpha_fold[i] = df_fold[i,y_fold[i]]  # conformity score of the ith element of the fold\n",
    "    for j in range(test_size):\n",
    "        for l in range(classes):\n",
    "            ranks[j,l] = ranks[j,l] + np.sum(alpha_fold <= df_test[j,l])\n",
    "# p-values:\n",
    "p = (ranks+1) / (train_size+1)"
   ]
  },
  {
   "cell_type": "markdown",
   "metadata": {},
   "source": [
    "Let's plot the calibration curve"
   ]
  },
  {
   "cell_type": "code",
   "execution_count": 67,
   "metadata": {},
   "outputs": [
    {
     "data": {
      "text/plain": [
       "Text(0, 0.5, 'errors')"
      ]
     },
     "execution_count": 67,
     "metadata": {},
     "output_type": "execute_result"
    },
    {
     "data": {
      "image/png": "[encoded data removed]",
      "text/plain": [
       "<Figure size 432x288 with 1 Axes>"
      ]
     },
     "metadata": {
      "needs_background": "light"
     },
     "output_type": "display_data"
    }
   ],
   "source": [
    "%matplotlib inline\n",
    "import matplotlib.pyplot as plt\n",
    "eps = np.zeros(100) \n",
    "error = np.zeros(100) \n",
    "for k in range(100):\n",
    "    eps[k] = k/100 \n",
    "    error[k] = 0 \n",
    "    for j in range(test_size):\n",
    "        if (p[j,y_test[j]] <= eps[k]): \n",
    "            error[k] = error[k] + 1 \n",
    "    error[k] = error[k] / test_size \n",
    "plt.plot(eps, error)\n",
    "plt.xlabel(\"significance level\")\n",
    "plt.ylabel(\"errors\")"
   ]
  },
  {
   "cell_type": "markdown",
   "metadata": {},
   "source": [
    "Calculating average false p-value"
   ]
  },
  {
   "cell_type": "code",
   "execution_count": 69,
   "metadata": {},
   "outputs": [
    {
     "name": "stdout",
     "output_type": "stream",
     "text": [
      "0.02106135986733001\n"
     ]
    }
   ],
   "source": [
    "p_values = 0\n",
    "for j in range(test_size):\n",
    "    p_values = p_values + p[j,0] + p[j,1] + p[j,2] - p[j,y_test[j]]\n",
    "print(p_values / (test_size*2))"
   ]
  },
  {
   "cell_type": "markdown",
   "metadata": {},
   "source": [
    "# Loading and Splitting USPS Dataset"
   ]
  },
  {
   "cell_type": "code",
   "execution_count": 70,
   "metadata": {},
   "outputs": [],
   "source": [
    "train_data = np.genfromtxt(\"zip.train.gz\", usecols=np.arange(1,257), dtype='float')\n",
    "test_data = np.genfromtxt(\"zip.test.gz\", usecols=np.arange(1,257), dtype='float')\n",
    "train_target = np.genfromtxt(\"zip.train.gz\", usecols=0, dtype='int')\n",
    "test_target = np.genfromtxt(\"zip.test.gz\", usecols=0, dtype='int')"
   ]
  },
  {
   "cell_type": "code",
   "execution_count": 71,
   "metadata": {},
   "outputs": [],
   "source": [
    "data = np.row_stack((train_data, test_data))\n",
    "target = np.append(train_target, test_target)"
   ]
  },
  {
   "cell_type": "code",
   "execution_count": 72,
   "metadata": {},
   "outputs": [
    {
     "name": "stdout",
     "output_type": "stream",
     "text": [
      "(9298, 256) (9298,)\n"
     ]
    }
   ],
   "source": [
    "print(data.shape,target.shape)"
   ]
  },
  {
   "cell_type": "code",
   "execution_count": 73,
   "metadata": {},
   "outputs": [
    {
     "name": "stdout",
     "output_type": "stream",
     "text": [
      "(6973, 256) (2325, 256)\n"
     ]
    }
   ],
   "source": [
    "X_train1, X_test1, y_train1, y_test1 = train_test_split(data, target, random_state=2606)\n",
    "print(X_train1.shape, X_test1.shape)"
   ]
  },
  {
   "cell_type": "markdown",
   "metadata": {},
   "source": [
    "# Generalization accuracy of SVM"
   ]
  },
  {
   "cell_type": "code",
   "execution_count": 74,
   "metadata": {},
   "outputs": [
    {
     "name": "stderr",
     "output_type": "stream",
     "text": [
      "C:\\Users\\rraj2\\Anaconda3\\lib\\site-packages\\sklearn\\model_selection\\_split.py:2053: FutureWarning: You should specify a value for 'cv' instead of relying on the default value. The default value will change from 3 to 5 in version 0.22.\n",
      "  warnings.warn(CV_WARNING, FutureWarning)\n",
      "C:\\Users\\rraj2\\Anaconda3\\lib\\site-packages\\sklearn\\svm\\base.py:196: FutureWarning: The default value of gamma will change from 'auto' to 'scale' in version 0.22 to account better for unscaled features. Set gamma explicitly to 'auto' or 'scale' to avoid this warning.\n",
      "  \"avoid this warning.\", FutureWarning)\n",
      "C:\\Users\\rraj2\\Anaconda3\\lib\\site-packages\\sklearn\\svm\\base.py:196: FutureWarning: The default value of gamma will change from 'auto' to 'scale' in version 0.22 to account better for unscaled features. Set gamma explicitly to 'auto' or 'scale' to avoid this warning.\n",
      "  \"avoid this warning.\", FutureWarning)\n",
      "C:\\Users\\rraj2\\Anaconda3\\lib\\site-packages\\sklearn\\svm\\base.py:196: FutureWarning: The default value of gamma will change from 'auto' to 'scale' in version 0.22 to account better for unscaled features. Set gamma explicitly to 'auto' or 'scale' to avoid this warning.\n",
      "  \"avoid this warning.\", FutureWarning)\n"
     ]
    },
    {
     "name": "stdout",
     "output_type": "stream",
     "text": [
      "0.9622848698399662\n"
     ]
    }
   ],
   "source": [
    "scores = cross_val_score(svm, X_train1, y_train1)\n",
    "mean=np.mean(scores)\n",
    "print(mean)"
   ]
  },
  {
   "cell_type": "code",
   "execution_count": 75,
   "metadata": {},
   "outputs": [
    {
     "name": "stderr",
     "output_type": "stream",
     "text": [
      "C:\\Users\\rraj2\\Anaconda3\\lib\\site-packages\\sklearn\\svm\\base.py:196: FutureWarning: The default value of gamma will change from 'auto' to 'scale' in version 0.22 to account better for unscaled features. Set gamma explicitly to 'auto' or 'scale' to avoid this warning.\n",
      "  \"avoid this warning.\", FutureWarning)\n"
     ]
    },
    {
     "data": {
      "text/plain": [
       "0.9720430107526882"
      ]
     },
     "execution_count": 75,
     "metadata": {},
     "output_type": "execute_result"
    }
   ],
   "source": [
    "svm.fit(X_train1, y_train1)\n",
    "svm.score(X_test1, y_test1)"
   ]
  },
  {
   "cell_type": "code",
   "execution_count": 76,
   "metadata": {},
   "outputs": [
    {
     "name": "stdout",
     "output_type": "stream",
     "text": [
      "0.027956989247311825\n"
     ]
    }
   ],
   "source": [
    "test_error_rate = 1-(svm.score(X_test1, y_test1))\n",
    "print(test_error_rate)"
   ]
  },
  {
   "cell_type": "markdown",
   "metadata": {},
   "source": [
    "Generalization accuracy of SVM using default parameters is 0.96 <br>\n",
    "Test error rate of SVM using default parameters is 0.028"
   ]
  },
  {
   "cell_type": "markdown",
   "metadata": {},
   "source": [
    "The accuracy we have here is pretty good"
   ]
  },
  {
   "cell_type": "markdown",
   "metadata": {},
   "source": [
    "# Creating pipeline for SVM "
   ]
  },
  {
   "cell_type": "code",
   "execution_count": 30,
   "metadata": {},
   "outputs": [
    {
     "name": "stderr",
     "output_type": "stream",
     "text": [
      "C:\\Users\\rraj2\\Anaconda3\\lib\\site-packages\\sklearn\\model_selection\\_split.py:2053: FutureWarning: You should specify a value for 'cv' instead of relying on the default value. The default value will change from 3 to 5 in version 0.22.\n",
      "  warnings.warn(CV_WARNING, FutureWarning)\n"
     ]
    },
    {
     "name": "stdout",
     "output_type": "stream",
     "text": [
      "Best accuracy: 0.9264305177111717\n",
      "Test score 0.9449462365591398\n",
      "Best Parameters: {'svc__C': 10, 'svc__gamma': 0.01}\n"
     ]
    }
   ],
   "source": [
    "# Standard scaler\n",
    "\n",
    "standard_pipe1 = make_pipeline(StandardScaler(), SVC())\n",
    "param_grid = {'svc__C': [0.01, 0.01, 1, 10], \n",
    "              'svc__gamma': [0.01, 0.1, 1, 10]}\n",
    "grid = GridSearchCV(standard_pipe1, param_grid=param_grid)\n",
    "grid.fit(X_train1, y_train1)\n",
    "\n",
    "print('Best accuracy:',grid.best_score_)\n",
    "print('Test score',grid.score(X_test1, y_test1))\n",
    "print('Best Parameters:',grid.best_params_)"
   ]
  },
  {
   "cell_type": "code",
   "execution_count": 31,
   "metadata": {},
   "outputs": [
    {
     "name": "stderr",
     "output_type": "stream",
     "text": [
      "C:\\Users\\rraj2\\Anaconda3\\lib\\site-packages\\sklearn\\model_selection\\_split.py:2053: FutureWarning: You should specify a value for 'cv' instead of relying on the default value. The default value will change from 3 to 5 in version 0.22.\n",
      "  warnings.warn(CV_WARNING, FutureWarning)\n"
     ]
    },
    {
     "name": "stdout",
     "output_type": "stream",
     "text": [
      "Best accuracy: 0.9655815287537646\n",
      "Test score 0.9763440860215054\n",
      "Best Parameters: {'svc__C': 10, 'svc__gamma': 0.01}\n"
     ]
    }
   ],
   "source": [
    "# MinMax scaler\n",
    "\n",
    "minmax_pipe1 = make_pipeline(MinMaxScaler(), SVC())\n",
    "param_grid = {'svc__C': [0.01, 0.01, 1, 10], \n",
    "              'svc__gamma': [0.01, 0.1, 1, 10]}\n",
    "grid = GridSearchCV(minmax_pipe1, param_grid=param_grid)\n",
    "grid.fit(X_train1, y_train1)\n",
    "\n",
    "print('Best accuracy:',grid.best_score_)\n",
    "print('Test score',grid.score(X_test1, y_test1))\n",
    "print('Best Parameters:',grid.best_params_)"
   ]
  },
  {
   "cell_type": "code",
   "execution_count": 32,
   "metadata": {},
   "outputs": [
    {
     "name": "stderr",
     "output_type": "stream",
     "text": [
      "C:\\Users\\rraj2\\Anaconda3\\lib\\site-packages\\sklearn\\model_selection\\_split.py:2053: FutureWarning: You should specify a value for 'cv' instead of relying on the default value. The default value will change from 3 to 5 in version 0.22.\n",
      "  warnings.warn(CV_WARNING, FutureWarning)\n"
     ]
    },
    {
     "name": "stdout",
     "output_type": "stream",
     "text": [
      "Best accuracy: 0.7116018930159186\n",
      "Test score 0.8210752688172043\n",
      "Best Parameters: {'svc__C': 10, 'svc__gamma': 0.01}\n"
     ]
    }
   ],
   "source": [
    "# Robust scaler\n",
    "\n",
    "robust_pipe1 = make_pipeline(RobustScaler(), SVC())\n",
    "param_grid = {'svc__C': [0.01, 0.01, 1, 10], \n",
    "              'svc__gamma': [0.01, 0.1, 1, 10]}\n",
    "grid = GridSearchCV(robust_pipe1, param_grid=param_grid)\n",
    "grid.fit(X_train1, y_train1)\n",
    "\n",
    "print('Best accuracy:',grid.best_score_)\n",
    "print('Test score',grid.score(X_test1, y_test1))\n",
    "print('Best Parameters:',grid.best_params_)"
   ]
  },
  {
   "cell_type": "code",
   "execution_count": 33,
   "metadata": {},
   "outputs": [
    {
     "name": "stderr",
     "output_type": "stream",
     "text": [
      "C:\\Users\\rraj2\\Anaconda3\\lib\\site-packages\\sklearn\\model_selection\\_split.py:2053: FutureWarning: You should specify a value for 'cv' instead of relying on the default value. The default value will change from 3 to 5 in version 0.22.\n",
      "  warnings.warn(CV_WARNING, FutureWarning)\n"
     ]
    },
    {
     "name": "stdout",
     "output_type": "stream",
     "text": [
      "Best accuracy: 0.9718915818155743\n",
      "Test score 0.9823655913978495\n",
      "Best Parameters: {'svc__C': 10, 'svc__gamma': 1}\n"
     ]
    }
   ],
   "source": [
    "# Normalizer scaler\n",
    "\n",
    "normalize_pipe1 = make_pipeline(Normalizer(), SVC())\n",
    "param_grid = {'svc__C': [0.01, 0.01, 1, 10], \n",
    "              'svc__gamma': [0.01, 0.1, 1, 10]}\n",
    "grid = GridSearchCV(normalize_pipe1, param_grid=param_grid)\n",
    "grid.fit(X_train1, y_train1)\n",
    "\n",
    "print('Best accuracy:',grid.best_score_)\n",
    "print('Test score',grid.score(X_test1, y_test1))\n",
    "print('Best Parameters:',grid.best_params_)"
   ]
  },
  {
   "cell_type": "markdown",
   "metadata": {},
   "source": [
    "As per the above numerical data we can say that for wine dataset standard scaler & min max scaler are the best since we have got the test score as 1. Robust scaler is also good with 0.98 accuracy where as Normalizer is the worst performing as compared to others with the average result of 0.95"
   ]
  },
  {
   "cell_type": "markdown",
   "metadata": {},
   "source": [
    "# Cross Conformal Predictors"
   ]
  },
  {
   "cell_type": "markdown",
   "metadata": {},
   "source": [
    "Elements for p-values"
   ]
  },
  {
   "cell_type": "code",
   "execution_count": 39,
   "metadata": {},
   "outputs": [],
   "source": [
    "train_size1 = X_train1.shape[0]\n",
    "test_size1 = X_test1.shape[0]\n",
    "classes1 = 10\n",
    "p1 = np.zeros(shape=(test_size1,classes1))\n",
    "ranks1 = np.zeros(\n",
    "    shape=(test_size1,classes1))"
   ]
  },
  {
   "cell_type": "markdown",
   "metadata": {},
   "source": [
    "computing p-values"
   ]
  },
  {
   "cell_type": "code",
   "execution_count": 40,
   "metadata": {},
   "outputs": [
    {
     "name": "stderr",
     "output_type": "stream",
     "text": [
      "C:\\Users\\rraj2\\Anaconda3\\lib\\site-packages\\sklearn\\model_selection\\_split.py:2053: FutureWarning: You should specify a value for 'cv' instead of relying on the default value. The default value will change from 3 to 5 in version 0.22.\n",
      "  warnings.warn(CV_WARNING, FutureWarning)\n",
      "C:\\Users\\rraj2\\Anaconda3\\lib\\site-packages\\sklearn\\model_selection\\_split.py:2053: FutureWarning: You should specify a value for 'cv' instead of relying on the default value. The default value will change from 3 to 5 in version 0.22.\n",
      "  warnings.warn(CV_WARNING, FutureWarning)\n",
      "C:\\Users\\rraj2\\Anaconda3\\lib\\site-packages\\sklearn\\model_selection\\_split.py:2053: FutureWarning: You should specify a value for 'cv' instead of relying on the default value. The default value will change from 3 to 5 in version 0.22.\n",
      "  warnings.warn(CV_WARNING, FutureWarning)\n",
      "C:\\Users\\rraj2\\Anaconda3\\lib\\site-packages\\sklearn\\model_selection\\_split.py:2053: FutureWarning: You should specify a value for 'cv' instead of relying on the default value. The default value will change from 3 to 5 in version 0.22.\n",
      "  warnings.warn(CV_WARNING, FutureWarning)\n",
      "C:\\Users\\rraj2\\Anaconda3\\lib\\site-packages\\sklearn\\model_selection\\_split.py:2053: FutureWarning: You should specify a value for 'cv' instead of relying on the default value. The default value will change from 3 to 5 in version 0.22.\n",
      "  warnings.warn(CV_WARNING, FutureWarning)\n"
     ]
    },
    {
     "name": "stdout",
     "output_type": "stream",
     "text": [
      "2647.110955476761 seconds\n"
     ]
    }
   ],
   "source": [
    "for rest_index1, fold_index1 in kf.split(X_train1):\n",
    "    X_rest1, X_fold1 = X_train1[rest_index1], X_train1[fold_index1]\n",
    "    y_rest1, y_fold1 = y_train1[rest_index1], y_train1[fold_index1]\n",
    "    grid.fit(X_rest1, y_rest1)\n",
    "    df_fold1 = grid.decision_function(X_fold1)\n",
    "    df_test1 = grid.decision_function(X_test1)\n",
    "    n_fold1 = X_fold1.shape[0]   # size of the current fold\n",
    "    alpha_fold1 = np.zeros(n_fold1)  # initializing the conformity scores for the fold\n",
    "    for i in range(n_fold1):\n",
    "        alpha_fold1[i] = df_fold1[i,y_fold1[i]]  # conformity score of the ith element of the fold\n",
    "    for j in range(test_size1):\n",
    "        for l in range(classes1):\n",
    "            ranks1[j,l] = ranks1[j,l] + np.sum(alpha_fold1 <= df_test1[j,l])\n",
    "#p-values:\n",
    "p1 = (ranks1+1) / (train_size1+1)"
   ]
  },
  {
   "cell_type": "markdown",
   "metadata": {},
   "source": [
    "Let's plot the calibration curve"
   ]
  },
  {
   "cell_type": "code",
   "execution_count": 85,
   "metadata": {},
   "outputs": [
    {
     "data": {
      "text/plain": [
       "Text(0, 0.5, 'errors')"
      ]
     },
     "execution_count": 85,
     "metadata": {},
     "output_type": "execute_result"
    },
    {
     "data": {
      "image/png": "[encoded data removed]",
      "text/plain": [
       "<Figure size 432x288 with 1 Axes>"
      ]
     },
     "metadata": {
      "needs_background": "light"
     },
     "output_type": "display_data"
    }
   ],
   "source": [
    "%matplotlib inline\n",
    "import matplotlib.pyplot as plt\n",
    "eps1 = np.zeros(100) \n",
    "error1 = np.zeros(100) \n",
    "for k in range(100):\n",
    "    eps1[k] = k/100 \n",
    "    error1[k] = 0 \n",
    "    for j in range(test_size1):\n",
    "        if (p1[j,y_test1[j]] <= eps1[k]): \n",
    "            error1[k] = error1[k] + 1 \n",
    "    error1[k] = error1[k] / test_size1 \n",
    "plt.plot(eps1, error1)\n",
    "plt.xlabel(\"significance level\")\n",
    "plt.ylabel(\"errors\")"
   ]
  },
  {
   "cell_type": "markdown",
   "metadata": {},
   "source": [
    "Calculating average false p-value"
   ]
  },
  {
   "cell_type": "code",
   "execution_count": 79,
   "metadata": {},
   "outputs": [
    {
     "name": "stdout",
     "output_type": "stream",
     "text": [
      "0.004385354854470922\n"
     ]
    }
   ],
   "source": [
    "p_values1 = 0\n",
    "for j in range(test_size1):\n",
    "    p_values1 = p_values1 + p1[j,0] + p1[j,1] + p1[j,2] + p1[j,3] + p1[j,4] + p1[j,5] + p1[j,6] + p1[j,7] + p1[j,8] + p1[j,9]  - p1[j,y_test1[j]]\n",
    "print(p_values1 / (test_size1*9))"
   ]
  },
  {
   "cell_type": "markdown",
   "metadata": {},
   "source": [
    "# Results"
   ]
  },
  {
   "cell_type": "markdown",
   "metadata": {},
   "source": [
    "<u>Generalization accuracy of SVM with deafult parameters:</u><br>\n",
    "<br>\n",
    "For wine dataset: 0.60 <br>\n",
    "For USPS dataset: 0.97 <br>\n",
    "<br>\n",
    "\n",
    "<u>Test error rate for SVM with default parameters:</u><br>\n",
    "<br>\n",
    "For wine dataset: 0.40<br>\n",
    "For USPS dataset: 0.03<br>\n",
    "<br>\n",
    "\n",
    "<u>Test error rate of GridSearchCV for different ways of normalization:</u><br>\n",
    "<br>\n",
    "For wine dataset:<br>\n",
    "StandardScaler - 0.00<br>\n",
    "MinMaxScaler - 0.00<br>\n",
    "RobustScaler - 0.03<br>\n",
    "Normalizer - 0.05<br>\n",
    "<br>\n",
    "For USPS dataset:<br>\n",
    "StandardScaler - 0.06<br>\n",
    "MinMaxScaler - 0.02<br>\n",
    "RobustScaler - 0.18<br>\n",
    "Normalizer - 0.02<br>\n",
    "<br>\n",
    "\n",
    "<u>Average false p-value:</u><br>\n",
    "<br>\n",
    "For wine dataset: 0.021<br>\n",
    "For USPS dataset: 0.004<br>"
   ]
  },
  {
   "cell_type": "markdown",
   "metadata": {},
   "source": [
    "<u>Calibration Curve for wine dataset"
   ]
  },
  {
   "attachments": {
    "image.png": {
     "image/png": "[encoded data removed]"
    }
   },
   "cell_type": "markdown",
   "metadata": {},
   "source": [
    "![image.png](attachment:image.png)"
   ]
  },
  {
   "cell_type": "markdown",
   "metadata": {},
   "source": [
    "<u>Calibration Curve for USPS dataset"
   ]
  },
  {
   "attachments": {
    "image.png": {
     "image/png": "[encoded data removed]"
    }
   },
   "cell_type": "markdown",
   "metadata": {},
   "source": [
    "![image.png](attachment:image.png)"
   ]
  }
 ],
 "metadata": {
  "kernelspec": {
   "display_name": "Python 3",
   "language": "python",
   "name": "python3"
  },
  "language_info": {
   "codemirror_mode": {
    "name": "ipython",
    "version": 3
   },
   "file_extension": ".py",
   "mimetype": "text/x-python",
   "name": "python",
   "nbconvert_exporter": "python",
   "pygments_lexer": "ipython3",
   "version": "3.7.6"
  }
 },
 "nbformat": 4,
 "nbformat_minor": 2
}
