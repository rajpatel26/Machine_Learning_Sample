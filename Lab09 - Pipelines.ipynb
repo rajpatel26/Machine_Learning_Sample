{
 "cells": [
  {
   "cell_type": "markdown",
   "metadata": {},
   "source": [
    "# Pipelines in scikit-learn"
   ]
  },
  {
   "cell_type": "code",
   "execution_count": 1,
   "metadata": {},
   "outputs": [],
   "source": [
    "from sklearn.preprocessing import MinMaxScaler\n",
    "from sklearn.svm import SVC\n",
    "from sklearn.pipeline import Pipeline\n",
    "from sklearn.pipeline import make_pipeline\n",
    "# standard syntax\n",
    "pipe_long = Pipeline([(\"scaler\", MinMaxScaler()), (\"svm\", SVC())])\n",
    "# abbreviated syntax\n",
    "pipe_short = make_pipeline(MinMaxScaler(), SVC())"
   ]
  },
  {
   "cell_type": "code",
   "execution_count": 2,
   "metadata": {},
   "outputs": [
    {
     "data": {
      "text/plain": [
       "[('minmaxscaler', MinMaxScaler(copy=True, feature_range=(0, 1))),\n",
       " ('svc', SVC(C=1.0, cache_size=200, class_weight=None, coef0=0.0,\n",
       "    decision_function_shape='ovr', degree=3, gamma='auto_deprecated',\n",
       "    kernel='rbf', max_iter=-1, probability=False, random_state=None,\n",
       "    shrinking=True, tol=0.001, verbose=False))]"
      ]
     },
     "execution_count": 2,
     "metadata": {},
     "output_type": "execute_result"
    }
   ],
   "source": [
    "pipe_short.steps"
   ]
  },
  {
   "cell_type": "code",
   "execution_count": 3,
   "metadata": {},
   "outputs": [
    {
     "data": {
      "text/plain": [
       "[('minmaxscaler-1', MinMaxScaler(copy=True, feature_range=(0, 1))),\n",
       " ('normalizer', Normalizer(copy=True, norm='l2')),\n",
       " ('minmaxscaler-2', MinMaxScaler(copy=True, feature_range=(0, 1)))]"
      ]
     },
     "execution_count": 3,
     "metadata": {},
     "output_type": "execute_result"
    }
   ],
   "source": [
    "from sklearn.preprocessing import Normalizer\n",
    "pipe = make_pipeline(MinMaxScaler(), Normalizer(), MinMaxScaler())\n",
    "pipe.steps"
   ]
  },
  {
   "cell_type": "code",
   "execution_count": 4,
   "metadata": {},
   "outputs": [
    {
     "name": "stderr",
     "output_type": "stream",
     "text": [
      "C:\\Users\\rraj2\\Anaconda3\\lib\\site-packages\\sklearn\\svm\\base.py:196: FutureWarning: The default value of gamma will change from 'auto' to 'scale' in version 0.22 to account better for unscaled features. Set gamma explicitly to 'auto' or 'scale' to avoid this warning.\n",
      "  \"avoid this warning.\", FutureWarning)\n"
     ]
    },
    {
     "data": {
      "text/plain": [
       "0.951048951048951"
      ]
     },
     "execution_count": 4,
     "metadata": {},
     "output_type": "execute_result"
    }
   ],
   "source": [
    "from sklearn.datasets import load_breast_cancer\n",
    "from sklearn.model_selection import train_test_split\n",
    "# load and split the data\n",
    "cancer = load_breast_cancer()\n",
    "X_train, X_test, y_train, y_test = train_test_split(cancer.data,\n",
    "cancer.target, random_state=0)\n",
    "pipe = make_pipeline(MinMaxScaler(), SVC())\n",
    "pipe.fit(X_train, y_train)\n",
    "pipe.score(X_test, y_test)"
   ]
  },
  {
   "cell_type": "code",
   "execution_count": 7,
   "metadata": {},
   "outputs": [
    {
     "name": "stdout",
     "output_type": "stream",
     "text": [
      "Best cross-validation accuracy: 0.9812206572769953\n",
      "Test set score: 0.972027972027972\n",
      "Best parameters: {'svc__C': 1, 'svc__gamma': 1}\n"
     ]
    }
   ],
   "source": [
    "from sklearn.model_selection import GridSearchCV\n",
    "param_grid = {'svc__C': [0.01, 0.1, 1, 10, 100],\n",
    "'svc__gamma': [0.001, 0.01, 0.1, 1, 10, 100]}\n",
    "grid = GridSearchCV(pipe, param_grid=param_grid, cv=5)\n",
    "grid.fit(X_train, y_train)\n",
    "print(\"Best cross-validation accuracy:\", grid.best_score_)\n",
    "print(\"Test set score:\", grid.score(X_test, y_test))\n",
    "print(\"Best parameters:\", grid.best_params_)"
   ]
  },
  {
   "cell_type": "code",
   "execution_count": 8,
   "metadata": {},
   "outputs": [
    {
     "data": {
      "text/plain": [
       "Pipeline(memory=None,\n",
       "     steps=[('minmaxscaler', MinMaxScaler(copy=True, feature_range=(0, 1))), ('svc', SVC(C=1, cache_size=200, class_weight=None, coef0=0.0,\n",
       "  decision_function_shape='ovr', degree=3, gamma=1, kernel='rbf',\n",
       "  max_iter=-1, probability=False, random_state=None, shrinking=True,\n",
       "  tol=0.001, verbose=False))])"
      ]
     },
     "execution_count": 8,
     "metadata": {},
     "output_type": "execute_result"
    }
   ],
   "source": [
    "grid.best_estimator_"
   ]
  },
  {
   "cell_type": "code",
   "execution_count": 9,
   "metadata": {},
   "outputs": [
    {
     "data": {
      "text/plain": [
       "{'minmaxscaler': MinMaxScaler(copy=True, feature_range=(0, 1)),\n",
       " 'svc': SVC(C=1, cache_size=200, class_weight=None, coef0=0.0,\n",
       "   decision_function_shape='ovr', degree=3, gamma=1, kernel='rbf',\n",
       "   max_iter=-1, probability=False, random_state=None, shrinking=True,\n",
       "   tol=0.001, verbose=False)}"
      ]
     },
     "execution_count": 9,
     "metadata": {},
     "output_type": "execute_result"
    }
   ],
   "source": [
    "grid.best_estimator_.named_steps"
   ]
  },
  {
   "cell_type": "code",
   "execution_count": 11,
   "metadata": {},
   "outputs": [
    {
     "data": {
      "text/plain": [
       "SVC(C=1, cache_size=200, class_weight=None, coef0=0.0,\n",
       "  decision_function_shape='ovr', degree=3, gamma=1, kernel='rbf',\n",
       "  max_iter=-1, probability=False, random_state=None, shrinking=True,\n",
       "  tol=0.001, verbose=False)"
      ]
     },
     "execution_count": 11,
     "metadata": {},
     "output_type": "execute_result"
    }
   ],
   "source": [
    "grid.best_estimator_.named_steps[\"svc\"]"
   ]
  },
  {
   "cell_type": "code",
   "execution_count": 12,
   "metadata": {},
   "outputs": [
    {
     "data": {
      "text/plain": [
       "array([45, 40])"
      ]
     },
     "execution_count": 12,
     "metadata": {},
     "output_type": "execute_result"
    }
   ],
   "source": [
    "grid.best_estimator_.named_steps[\"svc\"].n_support_"
   ]
  },
  {
   "cell_type": "markdown",
   "metadata": {},
   "source": [
    "# The KFold class "
   ]
  },
  {
   "cell_type": "code",
   "execution_count": 13,
   "metadata": {},
   "outputs": [
    {
     "name": "stderr",
     "output_type": "stream",
     "text": [
      "C:\\Users\\rraj2\\Anaconda3\\lib\\site-packages\\sklearn\\model_selection\\_split.py:2053: FutureWarning: You should specify a value for 'cv' instead of relying on the default value. The default value will change from 3 to 5 in version 0.22.\n",
      "  warnings.warn(CV_WARNING, FutureWarning)\n",
      "C:\\Users\\rraj2\\Anaconda3\\lib\\site-packages\\sklearn\\svm\\base.py:196: FutureWarning: The default value of gamma will change from 'auto' to 'scale' in version 0.22 to account better for unscaled features. Set gamma explicitly to 'auto' or 'scale' to avoid this warning.\n",
      "  \"avoid this warning.\", FutureWarning)\n",
      "C:\\Users\\rraj2\\Anaconda3\\lib\\site-packages\\sklearn\\svm\\base.py:196: FutureWarning: The default value of gamma will change from 'auto' to 'scale' in version 0.22 to account better for unscaled features. Set gamma explicitly to 'auto' or 'scale' to avoid this warning.\n",
      "  \"avoid this warning.\", FutureWarning)\n",
      "C:\\Users\\rraj2\\Anaconda3\\lib\\site-packages\\sklearn\\svm\\base.py:196: FutureWarning: The default value of gamma will change from 'auto' to 'scale' in version 0.22 to account better for unscaled features. Set gamma explicitly to 'auto' or 'scale' to avoid this warning.\n",
      "  \"avoid this warning.\", FutureWarning)\n"
     ]
    },
    {
     "data": {
      "text/plain": [
       "array([0.98039216, 0.96078431, 0.97916667])"
      ]
     },
     "execution_count": 13,
     "metadata": {},
     "output_type": "execute_result"
    }
   ],
   "source": [
    "from sklearn.datasets import load_iris\n",
    "from sklearn.model_selection import cross_val_score\n",
    "iris = load_iris()\n",
    "svm = SVC()\n",
    "cross_val_score(svm, iris.data, iris.target)"
   ]
  },
  {
   "cell_type": "code",
   "execution_count": 14,
   "metadata": {},
   "outputs": [
    {
     "name": "stderr",
     "output_type": "stream",
     "text": [
      "C:\\Users\\rraj2\\Anaconda3\\lib\\site-packages\\sklearn\\model_selection\\_split.py:426: FutureWarning: You should specify a value for 'n_splits' instead of relying on the default value. The default value will change from 3 to 5 in version 0.22.\n",
      "  warnings.warn(NSPLIT_WARNING, FutureWarning)\n"
     ]
    },
    {
     "data": {
      "text/plain": [
       "KFold(n_splits=3, random_state=0, shuffle=True)"
      ]
     },
     "execution_count": 14,
     "metadata": {},
     "output_type": "execute_result"
    }
   ],
   "source": [
    "from sklearn.model_selection import KFold\n",
    "kf = KFold(shuffle=True, random_state=0)\n",
    "kf"
   ]
  },
  {
   "cell_type": "code",
   "execution_count": 16,
   "metadata": {},
   "outputs": [
    {
     "data": {
      "text/plain": [
       "3"
      ]
     },
     "execution_count": 16,
     "metadata": {},
     "output_type": "execute_result"
    }
   ],
   "source": [
    "kf.get_n_splits()"
   ]
  },
  {
   "cell_type": "code",
   "execution_count": 17,
   "metadata": {},
   "outputs": [
    {
     "name": "stdout",
     "output_type": "stream",
     "text": [
      "0.98\n",
      "0.96\n",
      "0.98\n"
     ]
    },
    {
     "name": "stderr",
     "output_type": "stream",
     "text": [
      "C:\\Users\\rraj2\\Anaconda3\\lib\\site-packages\\sklearn\\svm\\base.py:196: FutureWarning: The default value of gamma will change from 'auto' to 'scale' in version 0.22 to account better for unscaled features. Set gamma explicitly to 'auto' or 'scale' to avoid this warning.\n",
      "  \"avoid this warning.\", FutureWarning)\n",
      "C:\\Users\\rraj2\\Anaconda3\\lib\\site-packages\\sklearn\\svm\\base.py:196: FutureWarning: The default value of gamma will change from 'auto' to 'scale' in version 0.22 to account better for unscaled features. Set gamma explicitly to 'auto' or 'scale' to avoid this warning.\n",
      "  \"avoid this warning.\", FutureWarning)\n",
      "C:\\Users\\rraj2\\Anaconda3\\lib\\site-packages\\sklearn\\svm\\base.py:196: FutureWarning: The default value of gamma will change from 'auto' to 'scale' in version 0.22 to account better for unscaled features. Set gamma explicitly to 'auto' or 'scale' to avoid this warning.\n",
      "  \"avoid this warning.\", FutureWarning)\n"
     ]
    }
   ],
   "source": [
    "for rest_index, fold_index in kf.split(iris.data):\n",
    "    #print(\"Current fold:\", fold_index)\n",
    "    #print(\"The rest of the training set:\", rest_index)\n",
    "    X_rest, X_fold = iris.data[rest_index], iris.data[fold_index]\n",
    "    y_rest, y_fold = iris.target[rest_index], iris.target[fold_index]\n",
    "    svm.fit(X_rest,y_rest)\n",
    "    print(svm.score(X_fold,y_fold))"
   ]
  },
  {
   "cell_type": "markdown",
   "metadata": {},
   "source": [
    "Exercise 1"
   ]
  },
  {
   "cell_type": "code",
   "execution_count": 26,
   "metadata": {},
   "outputs": [
    {
     "name": "stdout",
     "output_type": "stream",
     "text": [
      "Current fold: [  2   7   8  10  16  18  22  24  26  27  33  37  40  43  44  45  51  54\n",
      "  59  60  61  62  63  66  71  73  76  78  83  84  86  90  92  93  97 100\n",
      " 107 108 112 114 116 119 121 126 127 132 134 137 141 144]\n",
      "The rest of the training set: [  0   1   3   4   5   6   9  11  12  13  14  15  17  19  20  21  23  25\n",
      "  28  29  30  31  32  34  35  36  38  39  41  42  46  47  48  49  50  52\n",
      "  53  55  56  57  58  64  65  67  68  69  70  72  74  75  77  79  80  81\n",
      "  82  85  87  88  89  91  94  95  96  98  99 101 102 103 104 105 106 109\n",
      " 110 111 113 115 117 118 120 122 123 124 125 128 129 130 131 133 135 136\n",
      " 138 139 140 142 143 145 146 147 148 149]\n",
      "Current fold: [  1   3   4   6  11  12  13  15  17  20  30  41  42  46  48  50  52  56\n",
      "  64  68  69  80  85  89  91  94  95  96  98 101 102 104 106 109 110 111\n",
      " 113 120 123 124 125 128 129 133 135 139 146 147 148 149]\n",
      "The rest of the training set: [  0   2   5   7   8   9  10  14  16  18  19  21  22  23  24  25  26  27\n",
      "  28  29  31  32  33  34  35  36  37  38  39  40  43  44  45  47  49  51\n",
      "  53  54  55  57  58  59  60  61  62  63  65  66  67  70  71  72  73  74\n",
      "  75  76  77  78  79  81  82  83  84  86  87  88  90  92  93  97  99 100\n",
      " 103 105 107 108 112 114 115 116 117 118 119 121 122 126 127 130 131 132\n",
      " 134 136 137 138 140 141 142 143 144 145]\n",
      "Current fold: [  0   5   9  14  19  21  23  25  28  29  31  32  34  35  36  38  39  47\n",
      "  49  53  55  57  58  65  67  70  72  74  75  77  79  81  82  87  88  99\n",
      " 103 105 115 117 118 122 130 131 136 138 140 142 143 145]\n",
      "The rest of the training set: [  1   2   3   4   6   7   8  10  11  12  13  15  16  17  18  20  22  24\n",
      "  26  27  30  33  37  40  41  42  43  44  45  46  48  50  51  52  54  56\n",
      "  59  60  61  62  63  64  66  68  69  71  73  76  78  80  83  84  85  86\n",
      "  89  90  91  92  93  94  95  96  97  98 100 101 102 104 106 107 108 109\n",
      " 110 111 112 113 114 116 119 120 121 123 124 125 126 127 128 129 132 133\n",
      " 134 135 137 139 141 144 146 147 148 149]\n"
     ]
    },
    {
     "name": "stderr",
     "output_type": "stream",
     "text": [
      "C:\\Users\\rraj2\\Anaconda3\\lib\\site-packages\\sklearn\\svm\\base.py:196: FutureWarning: The default value of gamma will change from 'auto' to 'scale' in version 0.22 to account better for unscaled features. Set gamma explicitly to 'auto' or 'scale' to avoid this warning.\n",
      "  \"avoid this warning.\", FutureWarning)\n",
      "C:\\Users\\rraj2\\Anaconda3\\lib\\site-packages\\sklearn\\svm\\base.py:196: FutureWarning: The default value of gamma will change from 'auto' to 'scale' in version 0.22 to account better for unscaled features. Set gamma explicitly to 'auto' or 'scale' to avoid this warning.\n",
      "  \"avoid this warning.\", FutureWarning)\n",
      "C:\\Users\\rraj2\\Anaconda3\\lib\\site-packages\\sklearn\\svm\\base.py:196: FutureWarning: The default value of gamma will change from 'auto' to 'scale' in version 0.22 to account better for unscaled features. Set gamma explicitly to 'auto' or 'scale' to avoid this warning.\n",
      "  \"avoid this warning.\", FutureWarning)\n"
     ]
    }
   ],
   "source": [
    "for rest_index, fold_index in kf.split(iris.data):\n",
    "    print(\"Current fold:\", fold_index)\n",
    "    print(\"The rest of the training set:\", rest_index)\n",
    "    X_rest, X_fold = iris.data[rest_index], iris.data[fold_index]\n",
    "    y_rest, y_fold = iris.target[rest_index], iris.target[fold_index]\n",
    "    svm.fit(X_rest,y_rest)\n",
    "    #print(svm.score(X_fold,y_fold))"
   ]
  },
  {
   "cell_type": "markdown",
   "metadata": {},
   "source": [
    "The current folds have approximately equal sizes each time and they are complement to corresponding training sets. They look random but are actually complements to other sets."
   ]
  },
  {
   "cell_type": "markdown",
   "metadata": {},
   "source": [
    "# 3. Multiclass classification using SVC"
   ]
  },
  {
   "cell_type": "code",
   "execution_count": 20,
   "metadata": {},
   "outputs": [
    {
     "name": "stderr",
     "output_type": "stream",
     "text": [
      "C:\\Users\\rraj2\\Anaconda3\\lib\\site-packages\\sklearn\\svm\\base.py:196: FutureWarning: The default value of gamma will change from 'auto' to 'scale' in version 0.22 to account better for unscaled features. Set gamma explicitly to 'auto' or 'scale' to avoid this warning.\n",
      "  \"avoid this warning.\", FutureWarning)\n"
     ]
    },
    {
     "data": {
      "text/plain": [
       "array([[-0.34066345,  0.84066345,  2.5       ],\n",
       "       [-0.31578545,  2.22555261,  1.09023284]])"
      ]
     },
     "execution_count": 20,
     "metadata": {},
     "output_type": "execute_result"
    }
   ],
   "source": [
    "from sklearn.model_selection import train_test_split\n",
    "X_train, X_test, y_train, y_test = train_test_split(iris.data, iris.target, train_size=6, test_size=None, random_state=0)\n",
    "svm = SVC()\n",
    "svm.fit(X_train, y_train)\n",
    "svm.decision_function(X_test[0:2])"
   ]
  },
  {
   "cell_type": "code",
   "execution_count": 21,
   "metadata": {},
   "outputs": [
    {
     "data": {
      "text/plain": [
       "array([2, 1])"
      ]
     },
     "execution_count": 21,
     "metadata": {},
     "output_type": "execute_result"
    }
   ],
   "source": [
    "y_test[0:2]"
   ]
  },
  {
   "cell_type": "markdown",
   "metadata": {},
   "source": [
    "# 4. Validity of a conformal predictor"
   ]
  },
  {
   "cell_type": "code",
   "execution_count": 31,
   "metadata": {},
   "outputs": [],
   "source": [
    "X_train, X_test, y_train, y_test = train_test_split(iris.data, iris.target, test_size=0.7, random_state=0)"
   ]
  },
  {
   "cell_type": "code",
   "execution_count": 32,
   "metadata": {},
   "outputs": [],
   "source": [
    "import math\n",
    "import numpy as np\n",
    "def dist(x1, x2):\n",
    "    return np.linalg.norm(x1-x2)\n",
    "n_train = X_train.shape[0]\n",
    "n_test = X_test.shape[0]\n",
    "dist_own = math.inf * np.ones(n_train)\n",
    "dist_other = math.inf * np.ones(n_train)\n",
    "for i in range(n_train-1):\n",
    "    for j in range(i+1,n_train):\n",
    "        current_dist = dist(X_train[i],X_train[j])\n",
    "    if y_train[i]==y_train[j]:\n",
    "      if (current_dist < dist_own[i]):\n",
    "        dist_own[i] = current_dist\n",
    "      if (current_dist < dist_own[j]):\n",
    "        dist_own[j] = current_dist\n",
    "    else:\n",
    "      if (current_dist < dist_other[i]):\n",
    "        dist_other[i] = current_dist\n",
    "      if (current_dist < dist_other[j]):\n",
    "        dist_other[j] = current_dist"
   ]
  },
  {
   "cell_type": "code",
   "execution_count": 33,
   "metadata": {},
   "outputs": [],
   "source": [
    "score = np.zeros(n_train+1)  \n",
    "p = np.zeros((n_test,3))    \n",
    "for j in range(n_test):\n",
    "  for l in range(3):   \n",
    "    aug_dist_own = np.append(dist_own,math.inf)\n",
    "    aug_dist_other = np.append(dist_other,math.inf)\n",
    "    for i in range(n_train):\n",
    "      current_dist = dist(X_train[i],X_test[j])\n",
    "      if y_train[i]==l:\n",
    "        if (current_dist < aug_dist_own[i]):\n",
    "          aug_dist_own[i] = current_dist\n",
    "        if (current_dist < aug_dist_own[n_train]):\n",
    "          aug_dist_own[n_train] = current_dist\n",
    "      else:\n",
    "        if (current_dist < aug_dist_other[i]):\n",
    "          aug_dist_other[i] = current_dist\n",
    "        if (current_dist < aug_dist_other[n_train]):\n",
    "          aug_dist_other[n_train] = current_dist\n",
    "    for i in range(n_train+1):\n",
    "      if aug_dist_own[i] == 0:\n",
    "        score[i] = math.inf\n",
    "        if (aug_dist_other[i] == 0):\n",
    "          score[i] = 0\n",
    "      else:\n",
    "        score[i] = aug_dist_other[i] / aug_dist_own[i]\n",
    "    p[j,l] = np.mean(score<=score[n_train])"
   ]
  },
  {
   "cell_type": "code",
   "execution_count": 34,
   "metadata": {},
   "outputs": [
    {
     "data": {
      "text/plain": [
       "[<matplotlib.lines.Line2D at 0x16a87edc208>]"
      ]
     },
     "execution_count": 34,
     "metadata": {},
     "output_type": "execute_result"
    },
    {
     "data": {
      "image/png": "[encoded data removed]",
      "text/plain": [
       "<Figure size 432x288 with 1 Axes>"
      ]
     },
     "metadata": {
      "needs_background": "light"
     },
     "output_type": "display_data"
    }
   ],
   "source": [
    "%matplotlib inline\n",
    "import matplotlib.pyplot as plt\n",
    "eps = np.zeros(100)  # a range of significance levels\n",
    "err = np.zeros(100)  # the corresponding error rates\n",
    "for k in range(100):\n",
    "  eps[k] = k/100     # considering eps = k%\n",
    "  err[k] = 0         # initializing the error rate\n",
    "  for j in range(n_test):\n",
    "    if (p[j,y_test[j]] <= eps[k]):  # if we made an error\n",
    "      err[k] = err[k] + 1   # count this error\n",
    "  err[k] = err[k] / n_test  # turn the number of errors into error rate\n",
    "plt.plot(eps,err)"
   ]
  },
  {
   "cell_type": "markdown",
   "metadata": {},
   "source": [
    "# Exercise 2"
   ]
  },
  {
   "cell_type": "markdown",
   "metadata": {},
   "source": [
    "The calibration curve becomes more regular as test_size increases.  The dependence on random_state is heavy."
   ]
  }
 ],
 "metadata": {
  "kernelspec": {
   "display_name": "Python 3",
   "language": "python",
   "name": "python3"
  },
  "language_info": {
   "codemirror_mode": {
    "name": "ipython",
    "version": 3
   },
   "file_extension": ".py",
   "mimetype": "text/x-python",
   "name": "python",
   "nbconvert_exporter": "python",
   "pygments_lexer": "ipython3",
   "version": "3.6.8"
  }
 },
 "nbformat": 4,
 "nbformat_minor": 2
}
