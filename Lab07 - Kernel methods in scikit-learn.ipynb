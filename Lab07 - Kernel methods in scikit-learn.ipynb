{
 "cells": [
  {
   "cell_type": "markdown",
   "metadata": {},
   "source": [
    "## 1. Nearest Neighbours with user-defined distances"
   ]
  },
  {
   "cell_type": "code",
   "execution_count": 1,
   "metadata": {},
   "outputs": [],
   "source": [
    "import numpy as np\n",
    "from sklearn.model_selection import train_test_split\n",
    "X = np.genfromtxt(\"ionosphere.txt\", delimiter=\",\",\n",
    "                  usecols=np.arange(34))\n",
    "y = np.genfromtxt(\"ionosphere.txt\", delimiter=\",\",\n",
    "                  usecols=34, dtype='int')\n",
    "X_train, X_test, y_train, y_test = train_test_split(X, y,random_state=0)"
   ]
  },
  {
   "cell_type": "code",
   "execution_count": 2,
   "metadata": {},
   "outputs": [
    {
     "data": {
      "text/plain": [
       "KNeighborsClassifier(algorithm='auto', leaf_size=30, metric='minkowski',\n",
       "           metric_params=None, n_jobs=None, n_neighbors=1, p=2,\n",
       "           weights='uniform')"
      ]
     },
     "execution_count": 2,
     "metadata": {},
     "output_type": "execute_result"
    }
   ],
   "source": [
    "from sklearn.neighbors import KNeighborsClassifier\n",
    "knn = KNeighborsClassifier(n_neighbors=1)\n",
    "knn.fit(X_train, y_train)"
   ]
  },
  {
   "cell_type": "code",
   "execution_count": 8,
   "metadata": {},
   "outputs": [
    {
     "data": {
      "text/plain": [
       "0.8522727272727273"
      ]
     },
     "execution_count": 8,
     "metadata": {},
     "output_type": "execute_result"
    }
   ],
   "source": [
    "knn.score(X_test, y_test)"
   ]
  },
  {
   "cell_type": "code",
   "execution_count": 9,
   "metadata": {},
   "outputs": [
    {
     "data": {
      "text/plain": [
       "KNeighborsClassifier(algorithm='auto', leaf_size=30,\n",
       "           metric=<function my_dist at 0x000001F4FA3F6620>,\n",
       "           metric_params=None, n_jobs=None, n_neighbors=1, p=2,\n",
       "           weights='uniform')"
      ]
     },
     "execution_count": 9,
     "metadata": {},
     "output_type": "execute_result"
    }
   ],
   "source": [
    "def my_dist(x, y):\n",
    "    return np.sum((x-y)**2)\n",
    "knn = KNeighborsClassifier(n_neighbors=1, metric=my_dist)\n",
    "knn.fit(X_train, y_train)"
   ]
  },
  {
   "cell_type": "code",
   "execution_count": 10,
   "metadata": {},
   "outputs": [
    {
     "data": {
      "text/plain": [
       "0.8522727272727273"
      ]
     },
     "execution_count": 10,
     "metadata": {},
     "output_type": "execute_result"
    }
   ],
   "source": [
    "np.mean(knn.predict(X_test)==y_test)"
   ]
  },
  {
   "cell_type": "code",
   "execution_count": 11,
   "metadata": {},
   "outputs": [
    {
     "data": {
      "text/plain": [
       "0.9204545454545454"
      ]
     },
     "execution_count": 11,
     "metadata": {},
     "output_type": "execute_result"
    }
   ],
   "source": [
    "knn = KNeighborsClassifier(n_neighbors=1, p=1)\n",
    "knn.fit(X_train, y_train)\n",
    "np.mean(knn.predict(X_test)==y_test)"
   ]
  },
  {
   "cell_type": "markdown",
   "metadata": {},
   "source": [
    "#### Exercise 1"
   ]
  },
  {
   "cell_type": "code",
   "execution_count": 12,
   "metadata": {},
   "outputs": [
    {
     "name": "stderr",
     "output_type": "stream",
     "text": [
      "C:\\Users\\rraj2\\Anaconda3\\lib\\site-packages\\sklearn\\model_selection\\_split.py:2053: FutureWarning: You should specify a value for 'cv' instead of relying on the default value. The default value will change from 3 to 5 in version 0.22.\n",
      "  warnings.warn(CV_WARNING, FutureWarning)\n",
      "C:\\Users\\rraj2\\Anaconda3\\lib\\site-packages\\sklearn\\model_selection\\_search.py:841: DeprecationWarning: The default of the `iid` parameter will change from True to False in version 0.22 and will be removed in 0.24. This will change numeric results when test-set sizes are unequal.\n",
      "  DeprecationWarning)\n"
     ]
    },
    {
     "data": {
      "text/plain": [
       "0.9204545454545454"
      ]
     },
     "execution_count": 12,
     "metadata": {},
     "output_type": "execute_result"
    }
   ],
   "source": [
    "parameters = {'p': [1, 2, 3, 4, 5, 6, 7, 8, 9, 10]}\n",
    "from sklearn.model_selection import GridSearchCV\n",
    "grid_search = GridSearchCV(KNeighborsClassifier(n_neighbors=1), parameters)\n",
    "grid_search.fit(X_train, y_train)\n",
    "grid_search.score(X_test, y_test)"
   ]
  },
  {
   "cell_type": "code",
   "execution_count": 26,
   "metadata": {},
   "outputs": [
    {
     "name": "stdout",
     "output_type": "stream",
     "text": [
      "{'mean_fit_time': array([0.00050433, 0.00072424, 0.00034841, 0.00202743, 0.00134341,\n",
      "       0.        , 0.00135199, 0.00033379, 0.00067687, 0.00171367]), 'std_fit_time': array([0.00071324, 0.00051384, 0.00049272, 0.00143884, 0.00189987,\n",
      "       0.        , 0.00191201, 0.00047204, 0.00047883, 0.0017646 ]), 'mean_score_time': array([0.00228707, 0.00233316, 0.03407001, 0.02933534, 0.03182308,\n",
      "       0.03311706, 0.03091351, 0.026395  , 0.02900887, 0.03073215]), 'std_score_time': array([0.00042957, 0.00123186, 0.00216936, 0.00205618, 0.00112705,\n",
      "       0.00108569, 0.00226308, 0.00483952, 0.00266355, 0.00124018]), 'param_p': masked_array(data=[1, 2, 3, 4, 5, 6, 7, 8, 9, 10],\n",
      "             mask=[False, False, False, False, False, False, False, False,\n",
      "                   False, False],\n",
      "       fill_value='?',\n",
      "            dtype=object), 'params': [{'p': 1}, {'p': 2}, {'p': 3}, {'p': 4}, {'p': 5}, {'p': 6}, {'p': 7}, {'p': 8}, {'p': 9}, {'p': 10}], 'split0_test_score': array([0.86516854, 0.83146067, 0.79775281, 0.7752809 , 0.76404494,\n",
      "       0.7752809 , 0.7752809 , 0.7752809 , 0.7752809 , 0.7752809 ]), 'split1_test_score': array([0.93103448, 0.83908046, 0.8045977 , 0.83908046, 0.85057471,\n",
      "       0.88505747, 0.88505747, 0.89655172, 0.89655172, 0.90804598]), 'split2_test_score': array([0.86206897, 0.83908046, 0.82758621, 0.82758621, 0.81609195,\n",
      "       0.83908046, 0.83908046, 0.85057471, 0.86206897, 0.87356322]), 'mean_test_score': array([0.88593156, 0.8365019 , 0.80988593, 0.81368821, 0.80988593,\n",
      "       0.83269962, 0.83269962, 0.84030418, 0.84410646, 0.85171103]), 'std_test_score': array([0.03173619, 0.00360543, 0.01275567, 0.02786339, 0.0356584 ,\n",
      "       0.04512189, 0.04512189, 0.05012232, 0.051182  , 0.05643223]), 'rank_test_score': array([1, 5, 9, 8, 9, 6, 6, 4, 3, 2]), 'split0_train_score': array([1., 1., 1., 1., 1., 1., 1., 1., 1., 1.]), 'split1_train_score': array([1., 1., 1., 1., 1., 1., 1., 1., 1., 1.]), 'split2_train_score': array([1., 1., 1., 1., 1., 1., 1., 1., 1., 1.]), 'mean_train_score': array([1., 1., 1., 1., 1., 1., 1., 1., 1., 1.]), 'std_train_score': array([0., 0., 0., 0., 0., 0., 0., 0., 0., 0.])}\n"
     ]
    }
   ],
   "source": [
    "print(grid_search.cv_results_)"
   ]
  },
  {
   "cell_type": "code",
   "execution_count": 23,
   "metadata": {},
   "outputs": [
    {
     "name": "stdout",
     "output_type": "stream",
     "text": [
      "{'p': 1}\n",
      "0.8859315589353612\n"
     ]
    }
   ],
   "source": [
    "print(grid_search.best_params_)\n",
    "print(grid_search.best_score_)"
   ]
  },
  {
   "cell_type": "markdown",
   "metadata": {},
   "source": [
    "best value of p for Nearest Neighbour is 1. error rate for p = 1 is  0.8859315589353612"
   ]
  },
  {
   "cell_type": "markdown",
   "metadata": {},
   "source": [
    "## 2. Kernel methods"
   ]
  },
  {
   "cell_type": "code",
   "execution_count": 13,
   "metadata": {},
   "outputs": [
    {
     "data": {
      "text/plain": [
       "0.8863636363636364"
      ]
     },
     "execution_count": 13,
     "metadata": {},
     "output_type": "execute_result"
    }
   ],
   "source": [
    "def poly_kernel(x, y, d):\n",
    "  return (1+np.dot(x,y))**d\n",
    "d = 2  # trying the polynomial kernel of degree d\n",
    "def poly_dist(x, y):  # squared distance\n",
    "  return poly_kernel(x,x,d) + poly_kernel(y,y,d)\\\n",
    "    - 2*poly_kernel(x,y,d)\n",
    "knn = KNeighborsClassifier(n_neighbors=1, metric=poly_dist)\n",
    "knn.fit(X_train, y_train)\n",
    "np.mean(knn.predict(X_test)==y_test)"
   ]
  },
  {
   "cell_type": "code",
   "execution_count": 14,
   "metadata": {},
   "outputs": [
    {
     "data": {
      "text/plain": [
       "0.9659090909090909"
      ]
     },
     "execution_count": 14,
     "metadata": {},
     "output_type": "execute_result"
    }
   ],
   "source": [
    "def rbf_kernel(x, y, gamma):\n",
    "  return np.exp(-gamma*np.sum((x-y)**2))\n",
    "gamma = 10  # the parameter gamma of the rbf kernel\n",
    "def rbf_dist(x, y):  # squared distance\n",
    "  return rbf_kernel(x,x,gamma) + rbf_kernel(y,y,gamma)\\\n",
    "    - 2*rbf_kernel(x,y,gamma)\n",
    "knn = KNeighborsClassifier(n_neighbors=1, metric=rbf_dist)\n",
    "knn.fit(X_train, y_train)\n",
    "np.mean(knn.predict(X_test)==y_test)"
   ]
  },
  {
   "cell_type": "code",
   "execution_count": 16,
   "metadata": {},
   "outputs": [
    {
     "name": "stdout",
     "output_type": "stream",
     "text": [
      "Best CV score: 0.8741654571843253\n",
      "Best parameter gamma: 10\n",
      "Test set score with best parameters: 0.9659090909090909\n"
     ]
    }
   ],
   "source": [
    "from sklearn.model_selection import cross_val_score\n",
    "best_score = 0\n",
    "for gamma in [0.01, 0.1, 1, 10, 100]:\n",
    "  # for each parameter, train a model\n",
    "  def rbf_dist(x, y):  # squared distance\n",
    "    return rbf_kernel(x,x,gamma) + rbf_kernel(y,y,gamma)\\\n",
    "      - 2*rbf_kernel(x,y,gamma)\n",
    "  knn = KNeighborsClassifier(n_neighbors=1, metric=rbf_dist)\n",
    "  # perform cross-validation\n",
    "  scores = cross_val_score(knn, X_train, y_train, cv=5)\n",
    "  # compute mean cross-validation accuracy\n",
    "  score = np.mean(scores)\n",
    "  # if we got a better score, store the score and parameters\n",
    "  if score > best_score:\n",
    "    best_score = score\n",
    "    best_gamma = gamma\n",
    "# rebuild a model on the full training set\n",
    "def rbf_dist(x, y):  # squared distance\n",
    "  return rbf_kernel(x,x,best_gamma) + rbf_kernel(y,y,best_gamma)\\\n",
    "    - 2*rbf_kernel(x,y,best_gamma)\n",
    "knn = KNeighborsClassifier(n_neighbors=1, metric=rbf_dist)\n",
    "knn.fit(X_train, y_train)\n",
    "test_score = knn.score(X_test, y_test)\n",
    "print(\"Best CV score:\", best_score)\n",
    "print(\"Best parameter gamma:\", best_gamma)\n",
    "print(\"Test set score with best parameters:\", test_score)"
   ]
  },
  {
   "cell_type": "markdown",
   "metadata": {},
   "source": [
    "## 3. Creating your own estimator"
   ]
  },
  {
   "cell_type": "code",
   "execution_count": 17,
   "metadata": {},
   "outputs": [],
   "source": [
    "class My_Classifier(KNeighborsClassifier):  \n",
    "  \"\"\"My first example of a classifier\"\"\"\n",
    "  def __init__(self, n_neighbors=1):\n",
    "    KNeighborsClassifier.__init__(self, n_neighbors=n_neighbors)\n",
    "  def fit(self, X, y):\n",
    "    KNeighborsClassifier.fit(self, X, y)\n",
    "    return self\n",
    "  def predict(self, X, y=None):\n",
    "    return KNeighborsClassifier.predict(self, X)\n",
    "  def score(self, X, y):\n",
    "    return KNeighborsClassifier.score(self, X, y)"
   ]
  },
  {
   "cell_type": "code",
   "execution_count": 18,
   "metadata": {},
   "outputs": [
    {
     "data": {
      "text/plain": [
       "0.8522727272727273"
      ]
     },
     "execution_count": 18,
     "metadata": {},
     "output_type": "execute_result"
    }
   ],
   "source": [
    "knn = My_Classifier()\n",
    "knn.fit(X_train, y_train)\n",
    "knn.score(X_test, y_test)"
   ]
  },
  {
   "cell_type": "code",
   "execution_count": 19,
   "metadata": {},
   "outputs": [],
   "source": [
    "class rbfClassifier(KNeighborsClassifier):  \n",
    "  \"\"\"Kernel K Nearest Neighbours classifier\"\"\"\n",
    "  def __init__(self, n_neighbors=1, gamma=1):\n",
    "    def rbf_dist(x, y):  # squared distance\n",
    "      return rbf_kernel(x,x,gamma) + rbf_kernel(y,y,gamma)\\\n",
    "        - 2*rbf_kernel(x,y,gamma)\n",
    "    KNeighborsClassifier.__init__(self, n_neighbors=n_neighbors,\n",
    "      metric=rbf_dist)\n",
    "    self.gamma = gamma\n",
    "    self.n_neighbors=n_neighbors\n",
    "  def fit(self, X, y):\n",
    "    KNeighborsClassifier.fit(self, X, y)\n",
    "    return self\n",
    "  def predict(self, X, y=None):\n",
    "    return KNeighborsClassifier.predict(self, X)\n",
    "  def score(self, X, y):\n",
    "    return KNeighborsClassifier.score(self, X, y)"
   ]
  },
  {
   "cell_type": "code",
   "execution_count": 20,
   "metadata": {},
   "outputs": [
    {
     "data": {
      "text/plain": [
       "0.9659090909090909"
      ]
     },
     "execution_count": 20,
     "metadata": {},
     "output_type": "execute_result"
    }
   ],
   "source": [
    "knn = rbfClassifier(n_neighbors=1, gamma=10)\n",
    "knn.fit(X_train, y_train)\n",
    "knn.score(X_test,y_test)"
   ]
  },
  {
   "cell_type": "markdown",
   "metadata": {},
   "source": [
    "## 4. Uncertainty estimates for Nearest Neighbours"
   ]
  },
  {
   "cell_type": "code",
   "execution_count": 43,
   "metadata": {},
   "outputs": [
    {
     "data": {
      "text/plain": [
       "array([2, 1, 0, 2, 0, 2, 0, 1, 1, 1, 2, 1, 1, 1, 1, 0, 1, 1, 0, 0, 2, 1,\n",
       "       0, 0, 2, 0, 0, 1, 1, 0, 2, 1, 0, 2, 2, 1, 0, 2])"
      ]
     },
     "execution_count": 43,
     "metadata": {},
     "output_type": "execute_result"
    }
   ],
   "source": [
    "from sklearn.datasets import load_iris\n",
    "iris = load_iris()\n",
    "X_train, X_test, y_train, y_test = train_test_split(iris.data,\n",
    "  iris.target, random_state=0)\n",
    "knn = KNeighborsClassifier()\n",
    "knn.fit(X_train, y_train)\n",
    "knn.predict(X_test)"
   ]
  },
  {
   "cell_type": "code",
   "execution_count": 44,
   "metadata": {},
   "outputs": [
    {
     "data": {
      "text/plain": [
       "array([[0. , 0. , 1. ],\n",
       "       [0. , 1. , 0. ],\n",
       "       [1. , 0. , 0. ],\n",
       "       [0. , 0. , 1. ],\n",
       "       [1. , 0. , 0. ],\n",
       "       [0. , 0. , 1. ],\n",
       "       [1. , 0. , 0. ],\n",
       "       [0. , 1. , 0. ],\n",
       "       [0. , 1. , 0. ],\n",
       "       [0. , 1. , 0. ],\n",
       "       [0. , 0. , 1. ],\n",
       "       [0. , 1. , 0. ],\n",
       "       [0. , 1. , 0. ],\n",
       "       [0. , 1. , 0. ],\n",
       "       [0. , 0.6, 0.4],\n",
       "       [1. , 0. , 0. ],\n",
       "       [0. , 0.8, 0.2],\n",
       "       [0. , 1. , 0. ],\n",
       "       [1. , 0. , 0. ],\n",
       "       [1. , 0. , 0. ],\n",
       "       [0. , 0. , 1. ],\n",
       "       [0. , 1. , 0. ],\n",
       "       [1. , 0. , 0. ],\n",
       "       [1. , 0. , 0. ],\n",
       "       [0. , 0.2, 0.8],\n",
       "       [1. , 0. , 0. ],\n",
       "       [1. , 0. , 0. ],\n",
       "       [0. , 1. , 0. ],\n",
       "       [0. , 1. , 0. ],\n",
       "       [1. , 0. , 0. ],\n",
       "       [0. , 0. , 1. ],\n",
       "       [0. , 1. , 0. ],\n",
       "       [1. , 0. , 0. ],\n",
       "       [0. , 0.2, 0.8],\n",
       "       [0. , 0. , 1. ],\n",
       "       [0. , 1. , 0. ],\n",
       "       [1. , 0. , 0. ],\n",
       "       [0. , 0. , 1. ]])"
      ]
     },
     "execution_count": 44,
     "metadata": {},
     "output_type": "execute_result"
    }
   ],
   "source": [
    "knn.predict_proba(X_test)"
   ]
  },
  {
   "cell_type": "markdown",
   "metadata": {},
   "source": [
    "#### Exercise 2"
   ]
  },
  {
   "cell_type": "code",
   "execution_count": 46,
   "metadata": {},
   "outputs": [],
   "source": [
    "A = knn.predict_proba(X_test)"
   ]
  },
  {
   "cell_type": "code",
   "execution_count": 49,
   "metadata": {},
   "outputs": [
    {
     "data": {
      "text/plain": [
       "array([2, 1, 0, 2, 0, 2, 0, 1, 1, 1, 2, 1, 1, 1, 1, 0, 1, 1, 0, 0, 2, 1,\n",
       "       0, 0, 2, 0, 0, 1, 1, 0, 2, 1, 0, 2, 2, 1, 0, 2], dtype=int64)"
      ]
     },
     "execution_count": 49,
     "metadata": {},
     "output_type": "execute_result"
    }
   ],
   "source": [
    "X = np.argmax(A,axis=1)\n",
    "X"
   ]
  },
  {
   "cell_type": "markdown",
   "metadata": {},
   "source": [
    "We can get the predict array from probability array by using the argmax function of NumPy"
   ]
  },
  {
   "cell_type": "markdown",
   "metadata": {},
   "source": [
    "#### Exercise 3"
   ]
  },
  {
   "cell_type": "code",
   "execution_count": 51,
   "metadata": {},
   "outputs": [],
   "source": [
    "class rbfClassifier(KNeighborsClassifier):  \n",
    "  \"\"\"Kernel K Nearest Neighbours classifier\"\"\"\n",
    "  def __init__(self, n_neighbors=1, gamma=1):\n",
    "    def rbf_dist(x, y):  # squared distance\n",
    "      return rbf_kernel(x,x,gamma) + rbf_kernel(y,y,gamma)\\\n",
    "        - 2*rbf_kernel(x,y,gamma)\n",
    "    KNeighborsClassifier.__init__(self, n_neighbors=n_neighbors,\n",
    "      metric=rbf_dist)\n",
    "    self.gamma = gamma\n",
    "    self.n_neighbors=n_neighbors\n",
    "  def fit(self, X, y):\n",
    "    KNeighborsClassifier.fit(self, X, y)\n",
    "    return self\n",
    "  def predict(self, X, y=None):\n",
    "    return KNeighborsClassifier.predict(self, X)\n",
    "  def predict_proba(self, X, y=None):\n",
    "    return KNeighborsClassifier.predict_proba(self, X)\n",
    "  def score(self, X, y):\n",
    "    return KNeighborsClassifier.score(self, X, y)"
   ]
  },
  {
   "cell_type": "markdown",
   "metadata": {},
   "source": [
    "#### Exercise 4"
   ]
  },
  {
   "cell_type": "code",
   "execution_count": 53,
   "metadata": {},
   "outputs": [
    {
     "data": {
      "text/plain": [
       "array([[0., 0., 1.],\n",
       "       [0., 1., 0.],\n",
       "       [1., 0., 0.],\n",
       "       [0., 0., 1.],\n",
       "       [1., 0., 0.],\n",
       "       [0., 0., 1.],\n",
       "       [1., 0., 0.],\n",
       "       [0., 1., 0.],\n",
       "       [0., 1., 0.],\n",
       "       [0., 1., 0.],\n",
       "       [0., 0., 1.],\n",
       "       [0., 1., 0.],\n",
       "       [0., 1., 0.],\n",
       "       [0., 1., 0.],\n",
       "       [0., 1., 0.],\n",
       "       [1., 0., 0.],\n",
       "       [0., 1., 0.],\n",
       "       [0., 1., 0.],\n",
       "       [1., 0., 0.],\n",
       "       [1., 0., 0.],\n",
       "       [0., 0., 1.],\n",
       "       [0., 1., 0.],\n",
       "       [1., 0., 0.],\n",
       "       [1., 0., 0.],\n",
       "       [0., 0., 1.],\n",
       "       [1., 0., 0.],\n",
       "       [1., 0., 0.],\n",
       "       [0., 1., 0.],\n",
       "       [0., 1., 0.],\n",
       "       [1., 0., 0.],\n",
       "       [0., 0., 1.],\n",
       "       [0., 1., 0.],\n",
       "       [1., 0., 0.],\n",
       "       [0., 0., 1.],\n",
       "       [0., 0., 1.],\n",
       "       [0., 1., 0.],\n",
       "       [1., 0., 0.],\n",
       "       [0., 0., 1.]])"
      ]
     },
     "execution_count": 53,
     "metadata": {},
     "output_type": "execute_result"
    }
   ],
   "source": [
    "knn = rbfClassifier(n_neighbors=1, gamma=10)\n",
    "knn.fit(X_train, y_train)\n",
    "knn.predict_proba(X_test)"
   ]
  }
 ],
 "metadata": {
  "kernelspec": {
   "display_name": "Python 3",
   "language": "python",
   "name": "python3"
  },
  "language_info": {
   "codemirror_mode": {
    "name": "ipython",
    "version": 3
   },
   "file_extension": ".py",
   "mimetype": "text/x-python",
   "name": "python",
   "nbconvert_exporter": "python",
   "pygments_lexer": "ipython3",
   "version": "3.6.8"
  }
 },
 "nbformat": 4,
 "nbformat_minor": 2
}
