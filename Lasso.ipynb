{
 "cells": [
  {
   "cell_type": "markdown",
   "metadata": {},
   "source": [
    "# 1. Loading the Dataset (scikit-learn version)"
   ]
  },
  {
   "cell_type": "code",
   "execution_count": 161,
   "metadata": {},
   "outputs": [],
   "source": [
    "from sklearn.datasets import load_diabetes\n",
    "diabetes = load_diabetes()"
   ]
  },
  {
   "cell_type": "code",
   "execution_count": 162,
   "metadata": {},
   "outputs": [
    {
     "name": "stdout",
     "output_type": "stream",
     "text": [
      ".. _diabetes_dataset:\n",
      "\n",
      "Diabetes dataset\n",
      "----------------\n",
      "\n",
      "Ten baseline variables, age, sex, body mass index, average blood\n",
      "pressure, and six blood serum measurements were obtained for each of n =\n",
      "442 diabetes patients, as well as the response of interest, a\n",
      "quantitative measure of disease progression one year after baseline.\n",
      "\n",
      "**Data Set Characteristics:**\n",
      "\n",
      "  :Number of Instances: 442\n",
      "\n",
      "  :Number of Attributes: First 10 columns are numeric predictive values\n",
      "\n",
      "  :Target: Column 11 is a quantitative measure of disease progression one year after baseline\n",
      "\n",
      "  :Attribute Information:\n",
      "      - Age\n",
      "      - Sex\n",
      "      - Body mass index\n",
      "      - Average blood pressure\n",
      "      - S1\n",
      "      - S2\n",
      "      - S3\n",
      "      - S4\n",
      "      - S5\n",
      "      - S6\n",
      "\n",
      "Note: Each of these 10 feature variables have been mean centered and scaled by the standard deviation times `n_samples` (i.e. the sum of squares of each column totals 1).\n",
      "\n",
      "Source URL:\n",
      "http://www4.stat.ncsu.edu/~boos/var.select/diabetes.html\n",
      "\n",
      "For more information see:\n",
      "Bradley Efron, Trevor Hastie, Iain Johnstone and Robert Tibshirani (2004) \"Least Angle Regression,\" Annals of Statistics (with discussion), 407-499.\n",
      "(http://web.stanford.edu/~hastie/Papers/LARS/LeastAngle_2002.pdf)\n"
     ]
    }
   ],
   "source": [
    "print(diabetes.DESCR)"
   ]
  },
  {
   "cell_type": "code",
   "execution_count": 163,
   "metadata": {},
   "outputs": [
    {
     "data": {
      "text/plain": [
       "(442, 10)"
      ]
     },
     "execution_count": 163,
     "metadata": {},
     "output_type": "execute_result"
    }
   ],
   "source": [
    "diabetes.data.shape"
   ]
  },
  {
   "cell_type": "markdown",
   "metadata": {},
   "source": [
    "Our data is correctly loaded with 442 instances and 10 variables"
   ]
  },
  {
   "cell_type": "markdown",
   "metadata": {},
   "source": [
    "# 2. Spliting the dataset"
   ]
  },
  {
   "cell_type": "code",
   "execution_count": 164,
   "metadata": {},
   "outputs": [],
   "source": [
    "from sklearn.model_selection import train_test_split\n",
    "X_train, X_test, y_train, y_test = train_test_split(diabetes.data, diabetes.target, random_state=2606)"
   ]
  },
  {
   "cell_type": "code",
   "execution_count": 165,
   "metadata": {},
   "outputs": [
    {
     "name": "stdout",
     "output_type": "stream",
     "text": [
      "(331, 10) (111, 10)\n"
     ]
    }
   ],
   "source": [
    "print(X_train.shape,X_test.shape)"
   ]
  },
  {
   "cell_type": "markdown",
   "metadata": {},
   "source": [
    "# 3. Fitting the Lasso model"
   ]
  },
  {
   "cell_type": "code",
   "execution_count": 166,
   "metadata": {},
   "outputs": [
    {
     "data": {
      "text/plain": [
       "0.3618678961780615"
      ]
     },
     "execution_count": 166,
     "metadata": {},
     "output_type": "execute_result"
    }
   ],
   "source": [
    "from sklearn.linear_model import Lasso \n",
    "lasso = Lasso().fit(X_train,y_train)\n",
    "lasso.score(X_train,y_train)"
   ]
  },
  {
   "cell_type": "markdown",
   "metadata": {},
   "source": [
    "Our Training Score is 0.362 "
   ]
  },
  {
   "cell_type": "code",
   "execution_count": 167,
   "metadata": {},
   "outputs": [
    {
     "data": {
      "text/plain": [
       "0.3570766460365088"
      ]
     },
     "execution_count": 167,
     "metadata": {},
     "output_type": "execute_result"
    }
   ],
   "source": [
    "lasso.score(X_test,y_test)"
   ]
  },
  {
   "cell_type": "markdown",
   "metadata": {},
   "source": [
    "Our Test Score is 0.357"
   ]
  },
  {
   "cell_type": "markdown",
   "metadata": {},
   "source": [
    "Let's Find out the number of features"
   ]
  },
  {
   "cell_type": "code",
   "execution_count": 168,
   "metadata": {},
   "outputs": [
    {
     "data": {
      "text/plain": [
       "array([  0.        ,  -0.        , 383.11855708,  25.10694904,\n",
       "         0.        ,   0.        ,  -0.        ,   0.        ,\n",
       "       285.0826159 ,   0.        ])"
      ]
     },
     "execution_count": 168,
     "metadata": {},
     "output_type": "execute_result"
    }
   ],
   "source": [
    "lasso.coef_"
   ]
  },
  {
   "cell_type": "code",
   "execution_count": 169,
   "metadata": {},
   "outputs": [
    {
     "data": {
      "text/plain": [
       "3"
      ]
     },
     "execution_count": 169,
     "metadata": {},
     "output_type": "execute_result"
    }
   ],
   "source": [
    "import numpy as np\n",
    "np.sum(lasso.coef_ != 0)"
   ]
  },
  {
   "cell_type": "code",
   "execution_count": 170,
   "metadata": {},
   "outputs": [
    {
     "data": {
      "text/plain": [
       "['age', 'sex', 'bmi', 'bp', 's1', 's2', 's3', 's4', 's5', 's6']"
      ]
     },
     "execution_count": 170,
     "metadata": {},
     "output_type": "execute_result"
    }
   ],
   "source": [
    "diabetes.feature_names"
   ]
  },
  {
   "cell_type": "code",
   "execution_count": 171,
   "metadata": {},
   "outputs": [
    {
     "name": "stdout",
     "output_type": "stream",
     "text": [
      "the feature names are:\n",
      "bmi\n",
      "bp\n",
      "s5\n"
     ]
    }
   ],
   "source": [
    "coef=np.array(lasso.coef_!=0)\n",
    "print('the feature names are:')\n",
    "for i in range(len(coef)):\n",
    "    if coef[i]==True:\n",
    "        print(diabetes.feature_names[i])"
   ]
  },
  {
   "cell_type": "markdown",
   "metadata": {},
   "source": [
    "Values for Train R^2 = 0.362 & Test R^2 = 0.357 using the default parameters.\n",
    "It uses 3 fetures namely BMI, BP & S5."
   ]
  },
  {
   "cell_type": "markdown",
   "metadata": {},
   "source": [
    "# 4. Loading the diabetes dataset from web"
   ]
  },
  {
   "cell_type": "code",
   "execution_count": 172,
   "metadata": {},
   "outputs": [],
   "source": [
    "X = np.genfromtxt('diabetes.data.txt',skip_header=1,usecols=range(10))\n",
    "y = np.genfromtxt('diabetes.data.txt',skip_header=1,usecols=10)"
   ]
  },
  {
   "cell_type": "code",
   "execution_count": 173,
   "metadata": {},
   "outputs": [
    {
     "name": "stdout",
     "output_type": "stream",
     "text": [
      "(442, 10) (442,)\n"
     ]
    }
   ],
   "source": [
    "print(X.shape,y.shape)"
   ]
  },
  {
   "cell_type": "markdown",
   "metadata": {},
   "source": [
    "# 5. Splitting our web dataset"
   ]
  },
  {
   "cell_type": "code",
   "execution_count": 174,
   "metadata": {},
   "outputs": [],
   "source": [
    "X_train1, X_test1, y_train1, y_test1 = train_test_split(X, y, random_state=2606)"
   ]
  },
  {
   "cell_type": "code",
   "execution_count": 175,
   "metadata": {},
   "outputs": [
    {
     "name": "stdout",
     "output_type": "stream",
     "text": [
      "(331, 10) (331,)\n"
     ]
    }
   ],
   "source": [
    "print(X_train1.shape,y_train1.shape)"
   ]
  },
  {
   "cell_type": "markdown",
   "metadata": {},
   "source": [
    "# 6. Fitting Lasso Model and comparing the results"
   ]
  },
  {
   "cell_type": "code",
   "execution_count": 176,
   "metadata": {},
   "outputs": [
    {
     "data": {
      "text/plain": [
       "0.5187960096744919"
      ]
     },
     "execution_count": 176,
     "metadata": {},
     "output_type": "execute_result"
    }
   ],
   "source": [
    "from sklearn.linear_model import Lasso\n",
    "lasso = Lasso().fit(X_train1,y_train1)\n",
    "lasso.score(X_train1,y_train1)"
   ]
  },
  {
   "cell_type": "markdown",
   "metadata": {},
   "source": [
    "Our Training Score is 0.519"
   ]
  },
  {
   "cell_type": "code",
   "execution_count": 177,
   "metadata": {},
   "outputs": [
    {
     "data": {
      "text/plain": [
       "0.4635592424677511"
      ]
     },
     "execution_count": 177,
     "metadata": {},
     "output_type": "execute_result"
    }
   ],
   "source": [
    "lasso.score(X_test1,y_test1)"
   ]
  },
  {
   "cell_type": "markdown",
   "metadata": {},
   "source": [
    "Our Test Score is 0.464"
   ]
  },
  {
   "cell_type": "markdown",
   "metadata": {},
   "source": [
    "Let's find out the number of features"
   ]
  },
  {
   "cell_type": "code",
   "execution_count": 178,
   "metadata": {},
   "outputs": [
    {
     "data": {
      "text/plain": [
       "array([ -0.23662796, -18.14477239,   6.01980254,   1.16339784,\n",
       "         0.23600959,  -0.39047972,  -1.0264169 ,   1.70553107,\n",
       "        28.27650774,   0.71408993])"
      ]
     },
     "execution_count": 178,
     "metadata": {},
     "output_type": "execute_result"
    }
   ],
   "source": [
    "lasso.coef_"
   ]
  },
  {
   "cell_type": "code",
   "execution_count": 179,
   "metadata": {},
   "outputs": [
    {
     "data": {
      "text/plain": [
       "10"
      ]
     },
     "execution_count": 179,
     "metadata": {},
     "output_type": "execute_result"
    }
   ],
   "source": [
    "import numpy as np\n",
    "np.sum(lasso.coef_ != 0)"
   ]
  },
  {
   "cell_type": "code",
   "execution_count": 180,
   "metadata": {},
   "outputs": [
    {
     "name": "stdout",
     "output_type": "stream",
     "text": [
      "the feature names are:\n",
      "age\n",
      "sex\n",
      "bmi\n",
      "bp\n",
      "s1\n",
      "s2\n",
      "s3\n",
      "s4\n",
      "s5\n",
      "s6\n"
     ]
    }
   ],
   "source": [
    "coef=np.array(lasso.coef_!=0)\n",
    "print('the feature names are:')\n",
    "for i in range(len(coef)):\n",
    "    if coef[i]==True:\n",
    "        print(diabetes.feature_names[i])"
   ]
  },
  {
   "cell_type": "markdown",
   "metadata": {},
   "source": [
    "Values for Train R^2 = 0.519 & Test R^2 = 0.464 using the default parameters. It uses all 10 fetures. \n",
    "\n",
    "Comparing the results of web dataset to the inbuit dataset the prediction accuracy is good but the number of features used is high."
   ]
  },
  {
   "cell_type": "markdown",
   "metadata": {},
   "source": [
    "# 7. Preprocessing the datasets using StandardScaler"
   ]
  },
  {
   "cell_type": "code",
   "execution_count": 181,
   "metadata": {},
   "outputs": [],
   "source": [
    "from sklearn.preprocessing import StandardScaler\n",
    "scaler = StandardScaler()\n",
    "scaler.fit(X_train1)\n",
    "X_train_scaled = scaler.transform(X_train1)\n",
    "X_test_scaled = scaler.transform(X_test1)"
   ]
  },
  {
   "cell_type": "markdown",
   "metadata": {},
   "source": [
    "# 8. Fit Lasso for scaled data"
   ]
  },
  {
   "cell_type": "code",
   "execution_count": 182,
   "metadata": {},
   "outputs": [
    {
     "data": {
      "text/plain": [
       "0.5216022387949448"
      ]
     },
     "execution_count": 182,
     "metadata": {},
     "output_type": "execute_result"
    }
   ],
   "source": [
    "from sklearn.linear_model import Lasso\n",
    "lasso = Lasso().fit(X_train_scaled,y_train1)\n",
    "lasso.score(X_train_scaled,y_train1)"
   ]
  },
  {
   "cell_type": "code",
   "execution_count": 183,
   "metadata": {},
   "outputs": [
    {
     "data": {
      "text/plain": [
       "0.4779229890295727"
      ]
     },
     "execution_count": 183,
     "metadata": {},
     "output_type": "execute_result"
    }
   ],
   "source": [
    "lasso.score(X_test_scaled,y_test1)"
   ]
  },
  {
   "cell_type": "code",
   "execution_count": 184,
   "metadata": {},
   "outputs": [
    {
     "data": {
      "text/plain": [
       "array([-1.95442348, -9.80099448, 25.02800966, 14.87967102, -5.15153417,\n",
       "       -0.        , -7.77978103,  1.99613392, 22.57110946,  6.74608709])"
      ]
     },
     "execution_count": 184,
     "metadata": {},
     "output_type": "execute_result"
    }
   ],
   "source": [
    "lasso.coef_"
   ]
  },
  {
   "cell_type": "code",
   "execution_count": 185,
   "metadata": {},
   "outputs": [
    {
     "data": {
      "text/plain": [
       "9"
      ]
     },
     "execution_count": 185,
     "metadata": {},
     "output_type": "execute_result"
    }
   ],
   "source": [
    "np.sum(lasso.coef_ != 0)"
   ]
  },
  {
   "cell_type": "code",
   "execution_count": 186,
   "metadata": {},
   "outputs": [
    {
     "name": "stdout",
     "output_type": "stream",
     "text": [
      "the feature names are:\n",
      "age\n",
      "sex\n",
      "bmi\n",
      "bp\n",
      "s1\n",
      "s3\n",
      "s4\n",
      "s5\n",
      "s6\n"
     ]
    }
   ],
   "source": [
    "coef=np.array(lasso.coef_!=0)\n",
    "print('the feature names are:')\n",
    "for i in range(len(coef)):\n",
    "    if coef[i]==True:\n",
    "        print(diabetes.feature_names[i])"
   ]
  },
  {
   "cell_type": "markdown",
   "metadata": {},
   "source": [
    "For scikit learn dataset <br>\n",
    "Train Score = 0.362 <br>\n",
    "Test Score = 0.357 <br>\n",
    "\n",
    "For web dataset <br>\n",
    "Train Score = 0.519 <br>\n",
    "Test Score = 0.464 <br>\n",
    "\n",
    "For Web Scaled dataset <br>\n",
    "Train Score = 0.522 <br>\n",
    "Test Score = 0.478 <br>"
   ]
  },
  {
   "cell_type": "markdown",
   "metadata": {},
   "source": [
    "As we can see our current results i.e. results from web scaled dataset is closer to the results of web dataset. We expected our results to be closer to scikit learn dataset but that is not the case here. So our expectation of having results closer to the scikit learn dataset is not confirmed."
   ]
  },
  {
   "cell_type": "markdown",
   "metadata": {},
   "source": [
    "The reason for the above is mentioned in Description of the scikit learn version dataset which says as follows:\n",
    "\n",
    "Note: Each of these 10 feature variables have been mean centered and scaled by the standard deviation times n_samples (i.e. the sum of squares of each column totals 1).\n",
    "\n",
    "Which means if we normalize by the way scikit learn version has been then we can expect the similar results. Also another reason for not having similar results is that we used default alpha value = 1 while normalizing using StandardScaler."
   ]
  },
  {
   "cell_type": "markdown",
   "metadata": {},
   "source": [
    "# 9. Trying different alpha values in Lasso"
   ]
  },
  {
   "cell_type": "code",
   "execution_count": 187,
   "metadata": {},
   "outputs": [],
   "source": [
    "alpha = [0.01, 0.1, 0.25, 0.5, 1, 2.5, 5, 10, 20]\n",
    "score=[]\n",
    "features=[]\n",
    "\n",
    "for i in alpha:\n",
    "    lasso = Lasso(i,max_iter=10000).fit(X_train_scaled,y_train1)\n",
    "    score = np.append(score,lasso.score(X_test_scaled, y_test1))\n",
    "    features = np.append(features,np.sum(lasso.coef_ != 0))    "
   ]
  },
  {
   "cell_type": "code",
   "execution_count": 188,
   "metadata": {},
   "outputs": [
    {
     "data": {
      "text/plain": [
       "array([0.47477959, 0.47437765, 0.47319093, 0.47505835, 0.47792299,\n",
       "       0.47987054, 0.47108553, 0.44752965, 0.36820675])"
      ]
     },
     "execution_count": 188,
     "metadata": {},
     "output_type": "execute_result"
    }
   ],
   "source": [
    "score"
   ]
  },
  {
   "cell_type": "code",
   "execution_count": 189,
   "metadata": {},
   "outputs": [
    {
     "data": {
      "text/plain": [
       "array([10.,  9.,  9.,  9.,  9.,  7.,  6.,  5.,  3.])"
      ]
     },
     "execution_count": 189,
     "metadata": {},
     "output_type": "execute_result"
    }
   ],
   "source": [
    "features"
   ]
  },
  {
   "cell_type": "code",
   "execution_count": 190,
   "metadata": {},
   "outputs": [
    {
     "data": {
      "text/plain": [
       "Text(0, 0.5, 'Score')"
      ]
     },
     "execution_count": 190,
     "metadata": {},
     "output_type": "execute_result"
    },
    {
     "data": {
      "image/png": "[encoded data removed]",
      "text/plain": [
       "<Figure size 432x288 with 1 Axes>"
      ]
     },
     "metadata": {
      "needs_background": "light"
     },
     "output_type": "display_data"
    }
   ],
   "source": [
    "import matplotlib.pyplot as plt\n",
    "plt.plot(features,score,marker='*')\n",
    "plt.xlabel('Number of features')\n",
    "plt.ylabel('Score')"
   ]
  },
  {
   "cell_type": "markdown",
   "metadata": {},
   "source": [
    "I would prefer the point with 7 features which gives us score of 0.479 with alpha value as 2.5 because it gives us a good accuracy with less number of features used in it."
   ]
  },
  {
   "cell_type": "markdown",
   "metadata": {},
   "source": [
    "# 10. Regularization parameter for Lasso using cross-validation"
   ]
  },
  {
   "cell_type": "code",
   "execution_count": 191,
   "metadata": {},
   "outputs": [
    {
     "name": "stderr",
     "output_type": "stream",
     "text": [
      "C:\\Users\\rraj2\\Anaconda3\\lib\\site-packages\\sklearn\\model_selection\\_search.py:841: DeprecationWarning: The default of the `iid` parameter will change from True to False in version 0.22 and will be removed in 0.24. This will change numeric results when test-set sizes are unequal.\n",
      "  DeprecationWarning)\n"
     ]
    },
    {
     "data": {
      "text/plain": [
       "0.4750583508498457"
      ]
     },
     "execution_count": 191,
     "metadata": {},
     "output_type": "execute_result"
    }
   ],
   "source": [
    "parameters = {'alpha': [0.01, 0.05, 0.1, 0.5, 1, 5, 10, 20, 30, 50, 75, 100]}\n",
    "from sklearn.model_selection import GridSearchCV\n",
    "grid_search = GridSearchCV(Lasso(), parameters, cv=5)\n",
    "grid_search.fit(X_train_scaled, y_train1)\n",
    "grid_search.score(X_test_scaled, y_test1)"
   ]
  },
  {
   "cell_type": "markdown",
   "metadata": {},
   "source": [
    "Test Score = 0.475"
   ]
  },
  {
   "cell_type": "code",
   "execution_count": 192,
   "metadata": {},
   "outputs": [
    {
     "data": {
      "text/plain": [
       "0.5235359445360518"
      ]
     },
     "execution_count": 192,
     "metadata": {},
     "output_type": "execute_result"
    }
   ],
   "source": [
    "grid_search.score(X_train_scaled, y_train1)"
   ]
  },
  {
   "cell_type": "markdown",
   "metadata": {},
   "source": [
    "Train Score = 0.524"
   ]
  },
  {
   "cell_type": "code",
   "execution_count": 193,
   "metadata": {},
   "outputs": [
    {
     "data": {
      "text/plain": [
       "9"
      ]
     },
     "execution_count": 193,
     "metadata": {},
     "output_type": "execute_result"
    }
   ],
   "source": [
    "np.sum(grid_search.best_estimator_.coef_ != 0)"
   ]
  },
  {
   "cell_type": "code",
   "execution_count": 196,
   "metadata": {},
   "outputs": [
    {
     "name": "stdout",
     "output_type": "stream",
     "text": [
      "the feature names are:\n",
      "age\n",
      "sex\n",
      "bmi\n",
      "bp\n",
      "s1\n",
      "s3\n",
      "s4\n",
      "s5\n",
      "s6\n"
     ]
    }
   ],
   "source": [
    "coef=np.array(grid_search.best_estimator_.coef_!=0)\n",
    "print('the feature names are:')\n",
    "for i in range(len(coef)):\n",
    "    if coef[i]==True:\n",
    "        print(diabetes.feature_names[i])"
   ]
  },
  {
   "cell_type": "markdown",
   "metadata": {},
   "source": [
    "Number of features used = 9"
   ]
  },
  {
   "cell_type": "markdown",
   "metadata": {},
   "source": [
    "# 11. Inductive Conformal Predictor"
   ]
  },
  {
   "cell_type": "markdown",
   "metadata": {},
   "source": [
    "Let's split our train set into two calibration set of 99 samples and rest into training proper"
   ]
  },
  {
   "cell_type": "code",
   "execution_count": 197,
   "metadata": {},
   "outputs": [],
   "source": [
    "X_train_proper, X_calib, y_train_proper, y_calib = train_test_split(X_train1, y_train1, test_size=99, random_state=2606)"
   ]
  },
  {
   "cell_type": "code",
   "execution_count": 198,
   "metadata": {},
   "outputs": [
    {
     "data": {
      "text/plain": [
       "((232, 10), (99, 10), (232,), (99,))"
      ]
     },
     "execution_count": 198,
     "metadata": {},
     "output_type": "execute_result"
    }
   ],
   "source": [
    "X_train_proper.shape, X_calib.shape, y_train_proper.shape, y_calib.shape"
   ]
  },
  {
   "cell_type": "markdown",
   "metadata": {},
   "source": [
    "Preprocessing our train, test & calibration sets using StandardScaler"
   ]
  },
  {
   "cell_type": "code",
   "execution_count": 199,
   "metadata": {},
   "outputs": [],
   "source": [
    "scaler = StandardScaler()\n",
    "scaler.fit(X_train_proper)\n",
    "X_train_proper_scaled = scaler.transform(X_train_proper)\n",
    "X_calib_scaled = scaler.transform(X_calib)\n",
    "X_test_scaled = scaler.transform(X_test1)"
   ]
  },
  {
   "cell_type": "markdown",
   "metadata": {},
   "source": [
    "Training Lasso on train set proper"
   ]
  },
  {
   "cell_type": "code",
   "execution_count": 200,
   "metadata": {},
   "outputs": [
    {
     "name": "stderr",
     "output_type": "stream",
     "text": [
      "C:\\Users\\rraj2\\Anaconda3\\lib\\site-packages\\sklearn\\model_selection\\_search.py:841: DeprecationWarning: The default of the `iid` parameter will change from True to False in version 0.22 and will be removed in 0.24. This will change numeric results when test-set sizes are unequal.\n",
      "  DeprecationWarning)\n"
     ]
    },
    {
     "data": {
      "text/plain": [
       "GridSearchCV(cv=5, error_score='raise-deprecating',\n",
       "       estimator=Lasso(alpha=1.0, copy_X=True, fit_intercept=True, max_iter=1000,\n",
       "   normalize=False, positive=False, precompute=False, random_state=None,\n",
       "   selection='cyclic', tol=0.0001, warm_start=False),\n",
       "       fit_params=None, iid='warn', n_jobs=None,\n",
       "       param_grid={'alpha': [0.01, 0.05, 0.1, 0.5, 1, 5, 10, 20, 30, 50, 75, 100]},\n",
       "       pre_dispatch='2*n_jobs', refit=True, return_train_score='warn',\n",
       "       scoring=None, verbose=0)"
      ]
     },
     "execution_count": 200,
     "metadata": {},
     "output_type": "execute_result"
    }
   ],
   "source": [
    "parameters = {'alpha': [0.01, 0.05, 0.1, 0.5, 1, 5, 10, 20, 30, 50, 75, 100]}\n",
    "grid_search = GridSearchCV(Lasso(), parameters, cv=5)\n",
    "grid_search.fit(X_train_proper_scaled, y_train_proper)"
   ]
  },
  {
   "cell_type": "markdown",
   "metadata": {},
   "source": [
    "To compute our non-confirmity scores we define y_hat and then compute our scores as |yi-yi_hat|"
   ]
  },
  {
   "cell_type": "code",
   "execution_count": 201,
   "metadata": {},
   "outputs": [],
   "source": [
    "y_calib_hat = grid_search.predict(X_calib_scaled)\n",
    "non_confirmity_scores = abs(y_calib-y_calib_hat)"
   ]
  },
  {
   "cell_type": "code",
   "execution_count": 202,
   "metadata": {},
   "outputs": [
    {
     "name": "stdout",
     "output_type": "stream",
     "text": [
      "[101.3450627   17.14994685  34.80554426  75.20236322  71.331452\n",
      "  63.55124831  45.12710115  33.04000615   2.53322927  91.44557451\n",
      "  51.0688909   10.72016856  35.95987227 139.74829501  89.30623698\n",
      "  10.43053795 102.19772635  55.62274853   3.49302914  41.95741091\n",
      " 105.77170968  64.27245777  22.36663344  18.57202251   0.96899743\n",
      "  14.79564225  47.74636761  26.8165971   93.72836554  19.78488604\n",
      "  22.00350295  29.19844315  24.35504567  83.30789424  33.89958725\n",
      "  30.45501642  30.58118113  30.56787376  40.19404743   3.0267896\n",
      "  25.36625183  29.00209165   0.27659556  35.71979374  43.47267525\n",
      "  19.80041488  95.64646476   5.62813108  49.92736432  27.88948238\n",
      "  25.09074547  22.63441763  19.74072459  60.5472342    3.38237683\n",
      "  65.43671278  72.54137849  37.69666382  22.75647329   2.72718377\n",
      "  10.37726163  91.00284435  28.82037868  40.5894559    5.90020285\n",
      "  76.28212445  67.70914596  93.36827058  55.3706714   12.7167971\n",
      "  98.44870565   7.90105374  37.91498077 119.81324568  88.74176129\n",
      "  34.27795184  21.15718588  48.20677526  52.85751913  54.93361221\n",
      "  12.4210803   11.31100494  61.10064891  64.25119455   6.722048\n",
      "  17.16455133  49.91926509   2.56751176  11.498317    13.34535581\n",
      "  87.00387668  21.32421257  78.05877256  30.41408023 101.01386806\n",
      "  35.70374865  39.59074098 101.27461166  66.2818419 ]\n"
     ]
    }
   ],
   "source": [
    "print(non_confirmity_scores)"
   ]
  },
  {
   "cell_type": "markdown",
   "metadata": {},
   "source": [
    "Sorting the non_confirmity_scores"
   ]
  },
  {
   "cell_type": "code",
   "execution_count": 203,
   "metadata": {},
   "outputs": [],
   "source": [
    "non_confirmity_scores_sorted = np.sort(non_confirmity_scores)"
   ]
  },
  {
   "cell_type": "code",
   "execution_count": 204,
   "metadata": {},
   "outputs": [
    {
     "name": "stdout",
     "output_type": "stream",
     "text": [
      "[  0.27659556   0.96899743   2.53322927   2.56751176   2.72718377\n",
      "   3.0267896    3.38237683   3.49302914   5.62813108   5.90020285\n",
      "   6.722048     7.90105374  10.37726163  10.43053795  10.72016856\n",
      "  11.31100494  11.498317    12.4210803   12.7167971   13.34535581\n",
      "  14.79564225  17.14994685  17.16455133  18.57202251  19.74072459\n",
      "  19.78488604  19.80041488  21.15718588  21.32421257  22.00350295\n",
      "  22.36663344  22.63441763  22.75647329  24.35504567  25.09074547\n",
      "  25.36625183  26.8165971   27.88948238  28.82037868  29.00209165\n",
      "  29.19844315  30.41408023  30.45501642  30.56787376  30.58118113\n",
      "  33.04000615  33.89958725  34.27795184  34.80554426  35.70374865\n",
      "  35.71979374  35.95987227  37.69666382  37.91498077  39.59074098\n",
      "  40.19404743  40.5894559   41.95741091  43.47267525  45.12710115\n",
      "  47.74636761  48.20677526  49.91926509  49.92736432  51.0688909\n",
      "  52.85751913  54.93361221  55.3706714   55.62274853  60.5472342\n",
      "  61.10064891  63.55124831  64.25119455  64.27245777  65.43671278\n",
      "  66.2818419   67.70914596  71.331452    72.54137849  75.20236322\n",
      "  76.28212445  78.05877256  83.30789424  87.00387668  88.74176129\n",
      "  89.30623698  91.00284435  91.44557451  93.36827058  93.72836554\n",
      "  95.64646476  98.44870565 101.01386806 101.27461166 101.3450627\n",
      " 102.19772635 105.77170968 119.81324568 139.74829501]\n"
     ]
    }
   ],
   "source": [
    "print(non_confirmity_scores_sorted)"
   ]
  },
  {
   "cell_type": "markdown",
   "metadata": {},
   "source": [
    "prediction intervals length at significance level 5%"
   ]
  },
  {
   "cell_type": "code",
   "execution_count": 205,
   "metadata": {
    "scrolled": true
   },
   "outputs": [
    {
     "name": "stdout",
     "output_type": "stream",
     "text": [
      "101.2746116593157\n"
     ]
    }
   ],
   "source": [
    "m = 99 #size of calibration set\n",
    "len_sig_level5 = non_confirmity_scores_sorted[m-1-int(np.floor(0.05*(m+1)))]\n",
    "print(len_sig_level5)"
   ]
  },
  {
   "cell_type": "markdown",
   "metadata": {},
   "source": [
    "prediction intervals length at significance level 20%"
   ]
  },
  {
   "cell_type": "code",
   "execution_count": 206,
   "metadata": {},
   "outputs": [
    {
     "name": "stdout",
     "output_type": "stream",
     "text": [
      "72.5413784872635\n"
     ]
    }
   ],
   "source": [
    "len_sig_level20 = non_confirmity_scores_sorted[m-1-int(np.floor(0.20*(m+1)))]\n",
    "print(len_sig_level20)"
   ]
  },
  {
   "cell_type": "markdown",
   "metadata": {},
   "source": [
    "Let's check the number of errors at significance 5% & 20% by comparing the actual label with the predicted label"
   ]
  },
  {
   "cell_type": "code",
   "execution_count": 207,
   "metadata": {},
   "outputs": [
    {
     "name": "stdout",
     "output_type": "stream",
     "text": [
      "5 23\n"
     ]
    }
   ],
   "source": [
    "error5 = 0 #initialize for error at 5%\n",
    "error20 = 0 #initialize for error at 20%\n",
    "y_test_hat = grid_search.predict(X_test_scaled)\n",
    "for k in range(y_test1.size):\n",
    "    if abs(y_test1[k]-y_test_hat[k]) > sig_level5:\n",
    "        error5 += 1\n",
    "    if abs(y_test1[k]-y_test_hat[k]) > sig_level20:\n",
    "        error20 += 1\n",
    "\n",
    "print(error5,error20)"
   ]
  },
  {
   "cell_type": "markdown",
   "metadata": {},
   "source": [
    "So we got 5 wrong predictions at significance level 5% & 23 wrong predictions at significance level 20%m"
   ]
  },
  {
   "cell_type": "markdown",
   "metadata": {},
   "source": [
    "Let's find out the Test Error rate"
   ]
  },
  {
   "cell_type": "code",
   "execution_count": 208,
   "metadata": {},
   "outputs": [
    {
     "name": "stdout",
     "output_type": "stream",
     "text": [
      "0.04504504504504504 0.2072072072072072\n"
     ]
    }
   ],
   "source": [
    "#error_rate = no.of.errors/total_samples\n",
    "Test_error5 = error5/y_test1.size \n",
    "Test_error20 = error20/y_test1.size\n",
    "\n",
    "print(Test_error5,Test_error20)"
   ]
  },
  {
   "cell_type": "markdown",
   "metadata": {},
   "source": [
    "Test error rate at 5% = 0.045\n",
    "\n",
    "Test error rate at 20% = 0.207"
   ]
  },
  {
   "cell_type": "markdown",
   "metadata": {},
   "source": [
    "# 12. Results"
   ]
  },
  {
   "cell_type": "markdown",
   "metadata": {},
   "source": [
    "For scikit-learn version of diabetes dataset. <br>\n",
    "Train Score = 0.362 <br>\n",
    "Test Score = 0.357 <br>\n",
    "no. of features used = 3 (bmi,bp,s5) <br>\n",
    "\n",
    "For original version of diabetes dataset <br>\n",
    "Train Score = 0.519 <br>\n",
    "Test Score = 0.464 <br>\n",
    "no. of features used = 10 (age,sex,bmi,bp,s1,s2,s3,s4,s5,s6) <br>\n",
    "\n",
    "For Our Scaled version of diabetes dataset <br>\n",
    "Train Score = 0.522 <br>\n",
    "Test Score = 0.478 <br>\n",
    "no. of features used = 9 (age,sex,bmi,bp,s1,s3,s4,s5,s6) <br>\n",
    "\n",
    "Results for Best parameters chosen by cross validation for our scaled version of diabetes dataset <br>\n",
    "Train Score = 0.524 <br>\n",
    "Test Score = 0.475 <br>\n",
    "no. of features used = 9 (age,sex,bmi,bp,s1,s3,s4,s5,s6) <br>\n",
    "\n",
    "Inductive Conformal Predictor results <br>\n",
    "length of prediction interval at 5% significance level = 101.2746116593157 <br>\n",
    "length of prediction interval at 20% significance level = 72.5413784872635 <br>\n",
    "\n",
    "test error rate at 5% significance level = 0.045 <br>\n",
    "test error rate at 20% significance level = 0.207 <br>"
   ]
  }
 ],
 "metadata": {
  "kernelspec": {
   "display_name": "Python 3",
   "language": "python",
   "name": "python3"
  },
  "language_info": {
   "codemirror_mode": {
    "name": "ipython",
    "version": 3
   },
   "file_extension": ".py",
   "mimetype": "text/x-python",
   "name": "python",
   "nbconvert_exporter": "python",
   "pygments_lexer": "ipython3",
   "version": "3.7.6"
  }
 },
 "nbformat": 4,
 "nbformat_minor": 2
}
